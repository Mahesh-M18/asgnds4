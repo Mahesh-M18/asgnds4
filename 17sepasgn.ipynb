{
 "cells": [
  {
   "cell_type": "code",
   "execution_count": null,
   "id": "3e3c312d-235c-403f-ba3e-5014da799b91",
   "metadata": {},
   "outputs": [],
   "source": [
    "for loop problems"
   ]
  },
  {
   "cell_type": "code",
   "execution_count": null,
   "id": "8822a2dd-fac9-436a-8767-980396dc4b35",
   "metadata": {},
   "outputs": [],
   "source": [
    "#1 Write a Python program to print numbers from 1 to 10 using a for loop."
   ]
  },
  {
   "cell_type": "code",
   "execution_count": 1,
   "id": "af150922-40de-4a4d-951f-5d469a60167b",
   "metadata": {},
   "outputs": [
    {
     "name": "stdout",
     "output_type": "stream",
     "text": [
      "1\n",
      "2\n",
      "3\n",
      "4\n",
      "5\n",
      "6\n",
      "7\n",
      "8\n",
      "9\n",
      "10\n"
     ]
    }
   ],
   "source": [
    "for i in range (1,11):\n",
    "    print(i)"
   ]
  },
  {
   "cell_type": "code",
   "execution_count": null,
   "id": "75daddaf-f4a7-4e0e-9511-a59457a5cc7a",
   "metadata": {},
   "outputs": [],
   "source": [
    "#2 Explain the difference between a for loop and a while loop in Python."
   ]
  },
  {
   "cell_type": "code",
   "execution_count": null,
   "id": "13c6a359-8258-4913-b4e6-a65d8a55d396",
   "metadata": {},
   "outputs": [],
   "source": [
    "#both `for` and `while` loops in Python are used for iteration, but they have different structures.\n",
    "\n",
    "#for loop\n",
    "#Used for iterating over a sequence (such as a list, tuple, or string) or other iterable objects.\n",
    "#It has a fixed number of iterations determined by the length of the sequence.\n",
    "\n",
    "\n",
    "#while loop\n",
    "#Used for executing a block of code repeatedly as long as a specified condition is true.\n",
    "#The loop continues until the condition becomes false.\n",
    "\n",
    "\n",
    "#`for` loop is typically used when you know the number of iterations in advance, whereas a \n",
    "#`while` loop is used when the number of iterations is not known beforehand and depends on a condition.\n",
    "\n",
    "\n",
    "# For loop example\n",
    "for i in range(5):\n",
    "    print(i)\n",
    "\n",
    "# While loop example\n",
    "counter = 0\n",
    "while counter < 5:\n",
    "    print(counter)\n",
    "    counter += 1"
   ]
  },
  {
   "cell_type": "code",
   "execution_count": null,
   "id": "a09b2c59-05b5-4019-97ed-f4f9ec4115d7",
   "metadata": {},
   "outputs": [],
   "source": [
    "#3 Write a Python program to calculate the sum of all numbers from 1 to 100 using a for loop."
   ]
  },
  {
   "cell_type": "code",
   "execution_count": 3,
   "id": "c0e5a2d3-ab10-4e42-a625-051de97fa23c",
   "metadata": {},
   "outputs": [
    {
     "name": "stdout",
     "output_type": "stream",
     "text": [
      "5050\n"
     ]
    }
   ],
   "source": [
    "sum_100=0\n",
    "for i in range(1,101):\n",
    "    sum_100+=i\n",
    "print(sum_100)"
   ]
  },
  {
   "cell_type": "code",
   "execution_count": null,
   "id": "f2817f9a-4a41-4d27-933f-437109a0c0dc",
   "metadata": {},
   "outputs": [],
   "source": [
    "#4 How do you iterate through a list using a for loop in Python?"
   ]
  },
  {
   "cell_type": "code",
   "execution_count": 4,
   "id": "0a8b00b9-6c2d-4658-bf19-77b1d0fbcfe8",
   "metadata": {},
   "outputs": [
    {
     "name": "stdout",
     "output_type": "stream",
     "text": [
      "1\n",
      "2\n",
      "3\n",
      "5\n",
      "6\n",
      "745\n",
      "675\n"
     ]
    }
   ],
   "source": [
    "l=[1,2,3,5,6,745,675]\n",
    "for i in l:\n",
    "    print(i)\n",
    "    \n",
    "#for loop iterates over each element in the list\n",
    "#i takes up the value over which it is iterated \n",
    "#print(i) prints the iterated value"
   ]
  },
  {
   "cell_type": "code",
   "execution_count": null,
   "id": "20e1d358-6a63-40b0-8d0c-e01b0758702a",
   "metadata": {},
   "outputs": [],
   "source": [
    "#5 Write a Python program to find the product of all elements in a list using a for loop."
   ]
  },
  {
   "cell_type": "code",
   "execution_count": 5,
   "id": "84b731d3-4c5a-4116-b811-b3d51bc94720",
   "metadata": {},
   "outputs": [
    {
     "name": "stdout",
     "output_type": "stream",
     "text": [
      "90517500\n"
     ]
    }
   ],
   "source": [
    "l=[1,2,3,5,6,745,675]\n",
    "prod=1\n",
    "for i in l:\n",
    "    prod*=i\n",
    "print(prod)"
   ]
  },
  {
   "cell_type": "code",
   "execution_count": null,
   "id": "c368e783-2c2b-417c-b840-2d6731d2136b",
   "metadata": {},
   "outputs": [],
   "source": [
    "#6 Create a Python program that prints all even numbers from 1 to 20 using a for loop."
   ]
  },
  {
   "cell_type": "code",
   "execution_count": 1,
   "id": "d8454c59-d6c4-4613-8ed2-5e955eb0aa0a",
   "metadata": {},
   "outputs": [
    {
     "name": "stdout",
     "output_type": "stream",
     "text": [
      "2\n",
      "4\n",
      "6\n",
      "8\n",
      "10\n",
      "12\n",
      "14\n",
      "16\n",
      "18\n",
      "20\n"
     ]
    }
   ],
   "source": [
    "for i in range(1,21):\n",
    "    if i%2==0:\n",
    "        print(i)"
   ]
  },
  {
   "cell_type": "code",
   "execution_count": null,
   "id": "26d7688e-3392-4664-93ce-87ed0073e405",
   "metadata": {},
   "outputs": [],
   "source": [
    "#7 Write a Python program that calculates the factorial of a number using a for loop."
   ]
  },
  {
   "cell_type": "code",
   "execution_count": 4,
   "id": "435da852-8967-4289-872c-5f59e9982fd8",
   "metadata": {},
   "outputs": [
    {
     "name": "stdin",
     "output_type": "stream",
     "text": [
      "Enter the number :  10\n"
     ]
    },
    {
     "name": "stdout",
     "output_type": "stream",
     "text": [
      "3628800\n"
     ]
    }
   ],
   "source": [
    "fact=1\n",
    "inp=int(input(\"Enter the number : \"))\n",
    "for i in range(1,inp+1):\n",
    "    fact*=i\n",
    "print(fact)"
   ]
  },
  {
   "cell_type": "code",
   "execution_count": null,
   "id": "7e4eef45-c61e-465e-b89b-96f41a8b0b2c",
   "metadata": {},
   "outputs": [],
   "source": [
    "#8 How can you iterate through the characters of a string using a for loop in Python?"
   ]
  },
  {
   "cell_type": "code",
   "execution_count": 5,
   "id": "9675f6f9-b636-44dc-8070-e1e2b38e6cb9",
   "metadata": {},
   "outputs": [
    {
     "name": "stdout",
     "output_type": "stream",
     "text": [
      "H\n",
      "e\n",
      "l\n",
      "l\n",
      "o\n",
      " \n",
      "W\n",
      "o\n",
      "r\n",
      "l\n",
      "d\n"
     ]
    }
   ],
   "source": [
    "string=\"Hello World\"\n",
    "for i in string:\n",
    "    print(i)"
   ]
  },
  {
   "cell_type": "code",
   "execution_count": null,
   "id": "339c2314-8dd5-4a89-a402-fc72aa8bee6d",
   "metadata": {},
   "outputs": [],
   "source": [
    "#9 Write a Python program to find the largest number in a list using a for loop."
   ]
  },
  {
   "cell_type": "code",
   "execution_count": 7,
   "id": "be89c583-6d01-4161-9bff-3fee1f9fd276",
   "metadata": {},
   "outputs": [
    {
     "name": "stdout",
     "output_type": "stream",
     "text": [
      "1001\n"
     ]
    }
   ],
   "source": [
    "l=[1001,2,3,5,6,745,675]\n",
    "largest=l[0]\n",
    "for i in l:\n",
    "    if i>largest:\n",
    "        largest=i\n",
    "print(largest)"
   ]
  },
  {
   "cell_type": "code",
   "execution_count": null,
   "id": "d620ca70-3f99-4bbd-8585-22d9a7285546",
   "metadata": {},
   "outputs": [],
   "source": [
    "#10 Create a Python program that prints the Fibonacci sequence up to a specified limit using a for loop."
   ]
  },
  {
   "cell_type": "code",
   "execution_count": 28,
   "id": "955b8315-3a7a-4284-b5da-1e16b82f7290",
   "metadata": {},
   "outputs": [],
   "source": [
    "\n",
    "def fibonacci(limit):\n",
    "    l=[0,1]\n",
    "    for i in range(2,limit):\n",
    "        next_term=l[-1]+l[-2]\n",
    "        l.append(next_term)\n",
    "    return l"
   ]
  },
  {
   "cell_type": "code",
   "execution_count": 29,
   "id": "a775ed25-e63e-43d2-ac48-36b7b8502d6e",
   "metadata": {},
   "outputs": [
    {
     "data": {
      "text/plain": [
       "[0, 1, 1, 2, 3, 5, 8, 13, 21, 34, 55, 89, 144, 233, 377, 610, 987, 1597]"
      ]
     },
     "execution_count": 29,
     "metadata": {},
     "output_type": "execute_result"
    }
   ],
   "source": [
    "fibonacci(18)"
   ]
  },
  {
   "cell_type": "code",
   "execution_count": null,
   "id": "90fedc1a-7638-4589-b4aa-7b31b66d6e11",
   "metadata": {},
   "outputs": [],
   "source": [
    "#11 Write a Python program to count the number of vowels in a given string using a for loop."
   ]
  },
  {
   "cell_type": "code",
   "execution_count": 33,
   "id": "90142810-bf65-4ea5-b89f-818484923af0",
   "metadata": {},
   "outputs": [
    {
     "name": "stdin",
     "output_type": "stream",
     "text": [
      "Enter a String :  skgashgqueiahgaga\n"
     ]
    },
    {
     "name": "stdout",
     "output_type": "stream",
     "text": [
      "The number of vowels :  7\n"
     ]
    }
   ],
   "source": [
    "inp=input(\"Enter a String : \")\n",
    "vowels=\"aeiou\"\n",
    "count=0\n",
    "for i in inp.lower():\n",
    "    if i in vowels:\n",
    "        count+=1\n",
    "print(\"The number of vowels : \",count)"
   ]
  },
  {
   "cell_type": "code",
   "execution_count": null,
   "id": "a62f0c93-a358-4ca7-acdf-8a15aeac0b27",
   "metadata": {},
   "outputs": [],
   "source": [
    "#12 Create a Python program that generates a multiplication table for a given number using a for loop."
   ]
  },
  {
   "cell_type": "code",
   "execution_count": 35,
   "id": "95278b5e-9c89-41c4-90f8-88769e83d41a",
   "metadata": {},
   "outputs": [
    {
     "name": "stdin",
     "output_type": "stream",
     "text": [
      "Enter a Number :  10\n"
     ]
    },
    {
     "name": "stdout",
     "output_type": "stream",
     "text": [
      "10 * 1 = 10\n",
      "10 * 2 = 20\n",
      "10 * 3 = 30\n",
      "10 * 4 = 40\n",
      "10 * 5 = 50\n",
      "10 * 6 = 60\n",
      "10 * 7 = 70\n",
      "10 * 8 = 80\n",
      "10 * 9 = 90\n",
      "10 * 10 = 100\n"
     ]
    }
   ],
   "source": [
    "inp=int(input(\"Enter a Number : \"))\n",
    "for i in range(1,11):\n",
    "    print(inp,\"*\",i,\"=\",inp*i)"
   ]
  },
  {
   "cell_type": "code",
   "execution_count": null,
   "id": "23e2b227-ae97-427d-a31c-3ab9ff33005a",
   "metadata": {},
   "outputs": [],
   "source": [
    "#13 Write a Python program to reverse a list using a for loop."
   ]
  },
  {
   "cell_type": "code",
   "execution_count": 36,
   "id": "f3869834-0bd9-49bf-ac4d-9cdb471e2987",
   "metadata": {},
   "outputs": [
    {
     "name": "stdout",
     "output_type": "stream",
     "text": [
      "[675, 745, 6, 5, 3, 2, 1001]\n"
     ]
    }
   ],
   "source": [
    "l=[1001,2,3,5,6,745,675]\n",
    "rl=[]\n",
    "for i in l:\n",
    "    rl.insert(0,i)\n",
    "print(rl)"
   ]
  },
  {
   "cell_type": "code",
   "execution_count": null,
   "id": "f8b87569-c12b-4373-b29b-bf582db637ff",
   "metadata": {},
   "outputs": [],
   "source": [
    "#14 Write a Python program to find the common elements between two lists using a for loop."
   ]
  },
  {
   "cell_type": "code",
   "execution_count": 38,
   "id": "3f7240ae-9ba9-4c0c-ad4d-db1c9e0c6ebe",
   "metadata": {},
   "outputs": [
    {
     "name": "stdout",
     "output_type": "stream",
     "text": [
      "5 6 7 "
     ]
    }
   ],
   "source": [
    "l1=[1,2,3,4,5,6,7]\n",
    "l2=[5,6,7,8,9,0]\n",
    "for i in l1:\n",
    "    if i in l2:\n",
    "        print(i,end=\" \")"
   ]
  },
  {
   "cell_type": "code",
   "execution_count": null,
   "id": "4db66924-ac94-486d-8b29-ab77ded643dd",
   "metadata": {},
   "outputs": [],
   "source": [
    "#15 Explain how to use a for loop to iterate through the keys and values of a dictionary in Python."
   ]
  },
  {
   "cell_type": "code",
   "execution_count": 45,
   "id": "4260b38f-058f-48a7-a589-4e48a874f554",
   "metadata": {},
   "outputs": [
    {
     "name": "stdout",
     "output_type": "stream",
     "text": [
      "a b c d 1 2 3 4 "
     ]
    }
   ],
   "source": [
    "my_dict = {'a': 1, 'b': 2, 'c': 3, 'd': 4}\n",
    "for i in my_dict.keys():\n",
    "    print(i,end=\" \")\n",
    "for j in my_dict.values():\n",
    "    print(j,end=\" \")"
   ]
  },
  {
   "cell_type": "code",
   "execution_count": null,
   "id": "1db685ee-385c-4d7d-a7d8-9fbdcb79f5f3",
   "metadata": {},
   "outputs": [],
   "source": [
    "#16 Write a Python program to find the GCD (Greatest Common Divisor) of two numbers using a for loop."
   ]
  },
  {
   "cell_type": "code",
   "execution_count": 51,
   "id": "b7dccd0f-8e78-4d28-9b3a-793bbfa84367",
   "metadata": {},
   "outputs": [
    {
     "name": "stdin",
     "output_type": "stream",
     "text": [
      "Enter the first number:  10\n",
      "Enter the second number:  5\n"
     ]
    },
    {
     "data": {
      "text/plain": [
       "5"
      ]
     },
     "execution_count": 51,
     "metadata": {},
     "output_type": "execute_result"
    }
   ],
   "source": [
    "x=int(input(\"Enter the first number: \"))\n",
    "y=int(input(\"Enter the second number: \"))\n",
    "def gcd(x,y):\n",
    "    if y > x:\n",
    "        x, y = y, x\n",
    "    for i in range(y, 0, -1):\n",
    "        if x % i == 0 and y % i == 0:\n",
    "            return i\n",
    "    return 1\n",
    "gcd(x,y)"
   ]
  },
  {
   "cell_type": "code",
   "execution_count": 52,
   "id": "8d47c1a9-e15b-4077-b91c-5cef02eab766",
   "metadata": {},
   "outputs": [
    {
     "name": "stdout",
     "output_type": "stream",
     "text": [
      "Hello World\n"
     ]
    }
   ],
   "source": [
    "#17 Create a Python program that checks if a string is a palindrome using a for loop."
   ]
  },
  {
   "cell_type": "code",
   "execution_count": 9,
   "id": "570bd05b-1436-439d-b012-783379398544",
   "metadata": {},
   "outputs": [],
   "source": [
    "s=\"racecar\"\n",
    "def palindrome(s):\n",
    "    for i in s:\n",
    "        if s==s[::-1]:\n",
    "            return \"String is palindrome\"\n",
    "        else: \n",
    "            return \"Not a palindrome\""
   ]
  },
  {
   "cell_type": "code",
   "execution_count": 10,
   "id": "84189db5-7d05-4c98-893c-30267af83f33",
   "metadata": {},
   "outputs": [
    {
     "data": {
      "text/plain": [
       "'String is palindrome'"
      ]
     },
     "execution_count": 10,
     "metadata": {},
     "output_type": "execute_result"
    }
   ],
   "source": [
    "palindrome(s)"
   ]
  },
  {
   "cell_type": "code",
   "execution_count": null,
   "id": "26bde7ef-d69c-4ded-ba03-9095d2c63bc4",
   "metadata": {},
   "outputs": [],
   "source": [
    "#18 Write a Python program to remove duplicates from a list using a for loop"
   ]
  },
  {
   "cell_type": "code",
   "execution_count": 20,
   "id": "aa12cbdb-af13-4d75-b982-14a830057c97",
   "metadata": {},
   "outputs": [],
   "source": [
    "l=[1,2,2,3,4,4,55,65,44,33,55]\n",
    "def deldup(l):\n",
    "    for i in l:\n",
    "        if l.count(i)>1:\n",
    "            l.remove(i)\n",
    "        else:\n",
    "            continue\n",
    "    return l"
   ]
  },
  {
   "cell_type": "code",
   "execution_count": 21,
   "id": "c4272541-9180-4381-ae77-a9ba4c233edb",
   "metadata": {},
   "outputs": [
    {
     "data": {
      "text/plain": [
       "[1, 2, 3, 4, 65, 44, 33, 55]"
      ]
     },
     "execution_count": 21,
     "metadata": {},
     "output_type": "execute_result"
    }
   ],
   "source": [
    "deldup(l)"
   ]
  },
  {
   "cell_type": "code",
   "execution_count": null,
   "id": "3dd51845-070c-4a5d-883c-ed85f357c82e",
   "metadata": {},
   "outputs": [],
   "source": [
    "#19 Create a Python program that counts the number of words in a sentence using a for loop"
   ]
  },
  {
   "cell_type": "code",
   "execution_count": 22,
   "id": "44d49b64-aada-4515-ab70-b3b3d9e4a5fb",
   "metadata": {},
   "outputs": [],
   "source": [
    "s=\"I am going to village\"\n",
    "def countword(s):\n",
    "    count=0\n",
    "    a=s.split()\n",
    "    for i in a:\n",
    "        count+=1\n",
    "    return count"
   ]
  },
  {
   "cell_type": "code",
   "execution_count": 23,
   "id": "e23dcd8b-9516-488b-b1d6-4aee6aa1a1ba",
   "metadata": {},
   "outputs": [
    {
     "data": {
      "text/plain": [
       "5"
      ]
     },
     "execution_count": 23,
     "metadata": {},
     "output_type": "execute_result"
    }
   ],
   "source": [
    "countword(s)"
   ]
  },
  {
   "cell_type": "code",
   "execution_count": null,
   "id": "5ab3a3df-6731-4cee-9515-445497b8ff22",
   "metadata": {},
   "outputs": [],
   "source": [
    "#20 Write a Python program to find the sum of all odd numbers from 1 to 50 using a for loop"
   ]
  },
  {
   "cell_type": "code",
   "execution_count": 26,
   "id": "0ec97aae-78fa-42d5-b7a3-728b3d5a48a3",
   "metadata": {},
   "outputs": [],
   "source": [
    "def sumodd():\n",
    "    sumodd=0\n",
    "    for i in range(1,51):\n",
    "        if i%2!=0:\n",
    "            sumodd+=i\n",
    "        else:\n",
    "            continue\n",
    "    return sumodd"
   ]
  },
  {
   "cell_type": "code",
   "execution_count": 27,
   "id": "14f4df36-3db3-4e1b-924f-d9c1ba0aec78",
   "metadata": {},
   "outputs": [
    {
     "data": {
      "text/plain": [
       "625"
      ]
     },
     "execution_count": 27,
     "metadata": {},
     "output_type": "execute_result"
    }
   ],
   "source": [
    "sumodd()"
   ]
  },
  {
   "cell_type": "code",
   "execution_count": null,
   "id": "a9769f6a-9b28-4884-9aa8-9d540cb8f3a6",
   "metadata": {},
   "outputs": [],
   "source": [
    "#21 Write a Python program that checks if a given year is a leap year using a for loop"
   ]
  },
  {
   "cell_type": "code",
   "execution_count": 32,
   "id": "8c976b12-d3b9-4b24-8202-f6dfe46fcc09",
   "metadata": {},
   "outputs": [],
   "source": [
    "year=2024\n",
    "def leapcheck(a):\n",
    "    if a>1900 and a%4==0:\n",
    "        return \"Leap Year\"\n",
    "    else:\n",
    "        return \"Normal Year\""
   ]
  },
  {
   "cell_type": "code",
   "execution_count": 33,
   "id": "0406ec39-1fb1-47a9-a6aa-0dfcaaba1a6b",
   "metadata": {},
   "outputs": [
    {
     "data": {
      "text/plain": [
       "'Leap Year'"
      ]
     },
     "execution_count": 33,
     "metadata": {},
     "output_type": "execute_result"
    }
   ],
   "source": [
    "leapcheck(year)"
   ]
  },
  {
   "cell_type": "code",
   "execution_count": null,
   "id": "905e01c1-cc43-496b-8c97-a4ceb3905865",
   "metadata": {},
   "outputs": [],
   "source": [
    "#22 Create a Python program that calculates the square root of a number using a for loop"
   ]
  },
  {
   "cell_type": "code",
   "execution_count": 59,
   "id": "dfa0e7b4-58d7-45ec-a556-5ce57eb5830b",
   "metadata": {},
   "outputs": [],
   "source": [
    "num=48\n",
    "def sqrt(a):\n",
    "    if a>0:\n",
    "        return a**0.5\n",
    "    else:\n",
    "        return \"Square cannot be found\""
   ]
  },
  {
   "cell_type": "code",
   "execution_count": 60,
   "id": "7250b62c-1e72-4ea9-ac3c-f0ae0c39b59c",
   "metadata": {},
   "outputs": [
    {
     "data": {
      "text/plain": [
       "6.928203230275509"
      ]
     },
     "execution_count": 60,
     "metadata": {},
     "output_type": "execute_result"
    }
   ],
   "source": [
    "sqrt(num)"
   ]
  },
  {
   "cell_type": "code",
   "execution_count": null,
   "id": "298a09c8-f3ea-4e95-930d-94f07cd125dd",
   "metadata": {},
   "outputs": [],
   "source": [
    "#23 Write a Python program to find the LCM (Least Common Multiple) of two numbers using a for loop."
   ]
  },
  {
   "cell_type": "code",
   "execution_count": 61,
   "id": "c836092f-1634-48dd-8c9e-326dd01a142d",
   "metadata": {},
   "outputs": [
    {
     "name": "stdin",
     "output_type": "stream",
     "text": [
      "Enter the first number:  25\n",
      "Enter the second number:  5\n"
     ]
    },
    {
     "name": "stdout",
     "output_type": "stream",
     "text": [
      "The Least Common Multiple (LCM) of 25 and 5 is: 25\n"
     ]
    }
   ],
   "source": [
    "def gcd(x, y):\n",
    "    while(y):\n",
    "        x, y = y, x % y\n",
    "    return x\n",
    "\n",
    "def lcm(x, y):\n",
    "    return (x * y) // gcd(x, y)\n",
    "\n",
    "num1 = int(input(\"Enter the first number: \"))\n",
    "num2 = int(input(\"Enter the second number: \"))\n",
    "\n",
    "result = lcm(num1, num2)\n",
    "\n",
    "print(f\"The Least Common Multiple (LCM) of {num1} and {num2} is: {result}\")\n"
   ]
  },
  {
   "cell_type": "code",
   "execution_count": null,
   "id": "187cb645-3692-4220-aa38-69c371f181d4",
   "metadata": {},
   "outputs": [],
   "source": [
    "if else promblems"
   ]
  },
  {
   "cell_type": "code",
   "execution_count": null,
   "id": "f0f2fbf9-120d-46fc-90fb-a0e376a49191",
   "metadata": {},
   "outputs": [],
   "source": [
    "#1 Write a Python program to check if a number is positive, negative, or zero using an if-else statement."
   ]
  },
  {
   "cell_type": "code",
   "execution_count": 68,
   "id": "76ed4522-7ca2-498d-bb8c-0d4d9c9e612c",
   "metadata": {},
   "outputs": [],
   "source": [
    "def checknum():\n",
    "    a=int(input(\"Enter an integer : \"))\n",
    "    if a>0:\n",
    "        return \"Positive\"\n",
    "    elif a==0:\n",
    "        return \"Zero\"\n",
    "    else:\n",
    "        return \"Negative\""
   ]
  },
  {
   "cell_type": "code",
   "execution_count": 71,
   "id": "84c4f470-afb7-456d-bbb3-289541f1c950",
   "metadata": {},
   "outputs": [
    {
     "name": "stdin",
     "output_type": "stream",
     "text": [
      "Enter an integer :  25\n"
     ]
    },
    {
     "data": {
      "text/plain": [
       "'Positive'"
      ]
     },
     "execution_count": 71,
     "metadata": {},
     "output_type": "execute_result"
    }
   ],
   "source": [
    "checknum()"
   ]
  },
  {
   "cell_type": "code",
   "execution_count": null,
   "id": "9899c6c8-c819-4606-880e-ee4011c542e8",
   "metadata": {},
   "outputs": [],
   "source": [
    "#2 Create a Python program that checks if a given number is even or odd using an if-else statement"
   ]
  },
  {
   "cell_type": "code",
   "execution_count": 72,
   "id": "35cdf0e1-11ad-41e0-a754-bb91f4690533",
   "metadata": {},
   "outputs": [],
   "source": [
    "def checkeo():\n",
    "    a=int(input(\"Enter an integer : \"))\n",
    "    if a%2==0:\n",
    "        return \"Even\"\n",
    "    else:\n",
    "        return \"Odd\""
   ]
  },
  {
   "cell_type": "code",
   "execution_count": 74,
   "id": "d27c38fb-f410-497b-ae16-2022a36f108a",
   "metadata": {},
   "outputs": [
    {
     "name": "stdin",
     "output_type": "stream",
     "text": [
      "Enter an integer :  54\n"
     ]
    },
    {
     "data": {
      "text/plain": [
       "'Even'"
      ]
     },
     "execution_count": 74,
     "metadata": {},
     "output_type": "execute_result"
    }
   ],
   "source": [
    "checkeo()"
   ]
  },
  {
   "cell_type": "code",
   "execution_count": null,
   "id": "8fe18ac7-bc0e-4ef8-8978-38f7455fedc9",
   "metadata": {},
   "outputs": [],
   "source": [
    "#3 How can you use nested if-else statements in Python, and provide an example?"
   ]
  },
  {
   "cell_type": "code",
   "execution_count": 76,
   "id": "153853d1-1d88-4eaa-9789-b06f361d52f8",
   "metadata": {},
   "outputs": [
    {
     "name": "stdin",
     "output_type": "stream",
     "text": [
      "Enter a number:  -25\n"
     ]
    },
    {
     "name": "stdout",
     "output_type": "stream",
     "text": [
      "Number is negative\n"
     ]
    }
   ],
   "source": [
    "#Nested if-else statements in Python allows to check for multiple conditions within other conditional statements. \n",
    "#We can have an if-else statement inside another if or else block\n",
    "num = int(input(\"Enter a number: \"))\n",
    "\n",
    "if num > 0:\n",
    "    print(\"Number is positive\")\n",
    "    if num % 2 == 0:\n",
    "        print(\"Number is even\")\n",
    "    else:\n",
    "        print(\"Number is odd\")\n",
    "elif num == 0:\n",
    "    print(\"Number is zero\")\n",
    "else:\n",
    "    print(\"Number is negative\")"
   ]
  },
  {
   "cell_type": "code",
   "execution_count": null,
   "id": "93d288f8-b4f6-4836-bb9b-30616f0797f1",
   "metadata": {},
   "outputs": [],
   "source": [
    "#4 Write a Python program to determine the largest of three numbers using if-else"
   ]
  },
  {
   "cell_type": "code",
   "execution_count": 4,
   "id": "6090de1c-53db-4ad8-8e96-ea4f19310715",
   "metadata": {},
   "outputs": [
    {
     "name": "stdin",
     "output_type": "stream",
     "text": [
      "Enter first number :  7845\n",
      "Enter second number :  545\n",
      "Enter third number :  54\n"
     ]
    },
    {
     "name": "stdout",
     "output_type": "stream",
     "text": [
      "First number is largest\n"
     ]
    }
   ],
   "source": [
    "def largest():\n",
    "    n=int(input(\"Enter first number : \"))\n",
    "    m=int(input(\"Enter second number : \"))\n",
    "    o=int(input(\"Enter third number : \"))\n",
    "    if (n>o):\n",
    "        if (n>m):\n",
    "            print(\"First number is largest\")\n",
    "        else:\n",
    "            print(\"Second number is largest\")\n",
    "    else:\n",
    "        print(\"Third number is largest\")\n",
    "largest()"
   ]
  },
  {
   "cell_type": "code",
   "execution_count": null,
   "id": "66b86a5a-55b0-4e7d-aee8-5b9f6d68d64c",
   "metadata": {},
   "outputs": [],
   "source": [
    "#5 Write a Python program that calculates the absolute value of a number using if-else."
   ]
  },
  {
   "cell_type": "code",
   "execution_count": 7,
   "id": "554705a7-da94-470a-9e2d-5b3b4ff6e045",
   "metadata": {},
   "outputs": [
    {
     "name": "stdin",
     "output_type": "stream",
     "text": [
      "Enter an number :  -44\n"
     ]
    },
    {
     "data": {
      "text/plain": [
       "44"
      ]
     },
     "execution_count": 7,
     "metadata": {},
     "output_type": "execute_result"
    }
   ],
   "source": [
    "def abso():\n",
    "    n=int(input(\"Enter an number : \"))\n",
    "    if n>=0:\n",
    "        return n\n",
    "    else:\n",
    "        return -n\n",
    "abso()"
   ]
  },
  {
   "cell_type": "code",
   "execution_count": null,
   "id": "8dff1b5c-0158-46a9-b87d-3771c367c124",
   "metadata": {},
   "outputs": [],
   "source": [
    "#6 Create a Python program that checks if a given character is a vowel or consonant using if-else."
   ]
  },
  {
   "cell_type": "code",
   "execution_count": 11,
   "id": "99771410-724a-4243-8b75-bf8a8e9b5298",
   "metadata": {},
   "outputs": [
    {
     "name": "stdin",
     "output_type": "stream",
     "text": [
      "Enter an character :  ar\n"
     ]
    },
    {
     "data": {
      "text/plain": [
       "'consonant'"
      ]
     },
     "execution_count": 11,
     "metadata": {},
     "output_type": "execute_result"
    }
   ],
   "source": [
    "def check():\n",
    "    n=input(\"Enter an character : \")\n",
    "    if n in \"aeiouAEIOU\":\n",
    "        return \"vowel\"\n",
    "    else:\n",
    "        return \"consonant\"\n",
    "check()"
   ]
  },
  {
   "cell_type": "code",
   "execution_count": null,
   "id": "e4fa7bdc-07d9-4dc9-8fa2-351635724231",
   "metadata": {},
   "outputs": [],
   "source": [
    "#7 Write a Python program to determine if a user is eligible to vote based on their age using if-else."
   ]
  },
  {
   "cell_type": "code",
   "execution_count": 13,
   "id": "a7638e7c-c5e8-473a-a301-4cee87edd655",
   "metadata": {},
   "outputs": [
    {
     "name": "stdin",
     "output_type": "stream",
     "text": [
      "Enter your age :  19\n"
     ]
    },
    {
     "data": {
      "text/plain": [
       "'Elligible to vote'"
      ]
     },
     "execution_count": 13,
     "metadata": {},
     "output_type": "execute_result"
    }
   ],
   "source": [
    "def vote():\n",
    "    n=int(input(\"Enter your age : \"))\n",
    "    if n>18:\n",
    "        return \"Elligible to vote\"\n",
    "    else:\n",
    "        return \"Not elligible to vote\"\n",
    "vote()"
   ]
  },
  {
   "cell_type": "code",
   "execution_count": null,
   "id": "70a2b5e2-6496-41c4-b08d-2c02dfce48c4",
   "metadata": {},
   "outputs": [],
   "source": [
    "#8 Create a Python program that calculates the discount amount based on the purchase amount using if-else."
   ]
  },
  {
   "cell_type": "code",
   "execution_count": 18,
   "id": "6daa6a9c-7f68-4d33-9a4a-d77b393ce865",
   "metadata": {},
   "outputs": [
    {
     "name": "stdin",
     "output_type": "stream",
     "text": [
      "Enter the amount of purchase :  1000\n"
     ]
    },
    {
     "name": "stdout",
     "output_type": "stream",
     "text": [
      "Discount of 10% is activated\n",
      "Discount =  100.0\n",
      "Amount =  900.0\n"
     ]
    }
   ],
   "source": [
    "def discount():\n",
    "    n=float(input(\"Enter the amount of purchase : \"))\n",
    "    if n>=1000:\n",
    "        print(\"Discount of 10% is activated\")\n",
    "        print(\"Discount = \",n*0.1)\n",
    "        print(\"Amount = \",n-(n*0.1))\n",
    "    else:\n",
    "        return \"Discount is not available for the purchase\"\n",
    "discount()"
   ]
  },
  {
   "cell_type": "code",
   "execution_count": null,
   "id": "27e62001-ae4e-4005-b8e0-52e212494dde",
   "metadata": {},
   "outputs": [],
   "source": [
    "#9 Write a Python program to check if a number is within a specified range using if-else"
   ]
  },
  {
   "cell_type": "code",
   "execution_count": 22,
   "id": "6fce5b1f-db76-48ea-a584-53320aa29c8c",
   "metadata": {},
   "outputs": [
    {
     "name": "stdin",
     "output_type": "stream",
     "text": [
      "Enter an number :  23\n"
     ]
    },
    {
     "data": {
      "text/plain": [
       "'In range of 1 to 100'"
      ]
     },
     "execution_count": 22,
     "metadata": {},
     "output_type": "execute_result"
    }
   ],
   "source": [
    "def srange():\n",
    "    n=int(input(\"Enter an number : \"))\n",
    "    if 1<n<100:\n",
    "        return \"In range of 1 to 100\"\n",
    "    else:\n",
    "        return \"Not in the speicified range\"\n",
    "srange()"
   ]
  },
  {
   "cell_type": "code",
   "execution_count": null,
   "id": "87495c59-8e13-4898-8c74-f5726121429c",
   "metadata": {},
   "outputs": [],
   "source": [
    "#10 Create a Python program that determines the grade of a student based on their score using if-else."
   ]
  },
  {
   "cell_type": "code",
   "execution_count": 27,
   "id": "991201f7-af91-4bc1-9379-de14d216dc4b",
   "metadata": {},
   "outputs": [
    {
     "name": "stdin",
     "output_type": "stream",
     "text": [
      "Enter your Marks :  60\n"
     ]
    },
    {
     "data": {
      "text/plain": [
       "'B Grade'"
      ]
     },
     "execution_count": 27,
     "metadata": {},
     "output_type": "execute_result"
    }
   ],
   "source": [
    "def grade():\n",
    "    n=int(input(\"Enter your Marks : \"))\n",
    "    if n>=60:\n",
    "        if n>=80:\n",
    "            return \"A Grade\"\n",
    "        else:\n",
    "            return \"B Grade\"\n",
    "    else:\n",
    "        return\"C Grade\"\n",
    "grade()"
   ]
  },
  {
   "cell_type": "code",
   "execution_count": null,
   "id": "19b574b4-3d60-4cac-a63d-03a00d32426e",
   "metadata": {},
   "outputs": [],
   "source": [
    "#11 Write a Python program to check if a string is empty or not using if-else"
   ]
  },
  {
   "cell_type": "code",
   "execution_count": 29,
   "id": "4e7d34c5-93e3-44de-aa15-e9bb16248fb0",
   "metadata": {},
   "outputs": [
    {
     "name": "stdin",
     "output_type": "stream",
     "text": [
      "Enter a String :  k\n"
     ]
    },
    {
     "data": {
      "text/plain": [
       "'Not an empty String'"
      ]
     },
     "execution_count": 29,
     "metadata": {},
     "output_type": "execute_result"
    }
   ],
   "source": [
    "def emps():\n",
    "    n=input(\"Enter a String : \")\n",
    "    if len(n)>0:\n",
    "        return \"Not an empty String\"\n",
    "    else:\n",
    "        return \"Empty String\"\n",
    "emps()"
   ]
  },
  {
   "cell_type": "code",
   "execution_count": null,
   "id": "877b5112-396c-4c17-83ae-2477f80c25a4",
   "metadata": {},
   "outputs": [],
   "source": [
    "#12 Create a Python program that identifies the type of a triangle \n",
    "#(e.g., equilateral, isosceles, or scalene) based on input values using if-else."
   ]
  },
  {
   "cell_type": "code",
   "execution_count": 35,
   "id": "89b7e8ad-2dd2-43cd-a26f-c34449390ae7",
   "metadata": {},
   "outputs": [
    {
     "name": "stdin",
     "output_type": "stream",
     "text": [
      "Enter first side dimension :  2\n",
      "Enter second side dimension :  3\n",
      "Enter third side dimension :  4\n"
     ]
    },
    {
     "data": {
      "text/plain": [
       "'Scalene Triangle'"
      ]
     },
     "execution_count": 35,
     "metadata": {},
     "output_type": "execute_result"
    }
   ],
   "source": [
    "def typetrngl():\n",
    "    n=int(input(\"Enter first side dimension : \"))\n",
    "    m=int(input(\"Enter second side dimension : \"))\n",
    "    o=int(input(\"Enter third side dimension : \"))\n",
    "    if (m==n)or(n==o)or(m==o):\n",
    "        if(m==n==o):\n",
    "            return \"Equilateral Triangle\"\n",
    "        else:\n",
    "            return \"Isosceles Triangle\"\n",
    "    else:\n",
    "        return \"Scalene Triangle\"\n",
    "typetrngl()"
   ]
  },
  {
   "cell_type": "code",
   "execution_count": null,
   "id": "4ef87e42-8b6d-4552-b12a-44f50514c653",
   "metadata": {},
   "outputs": [],
   "source": [
    "#13 Write a Python program to determine the day of the week based on a user-provided number using if-else."
   ]
  },
  {
   "cell_type": "code",
   "execution_count": 38,
   "id": "eb37b88e-9e8b-45d5-beba-8919ee238f03",
   "metadata": {},
   "outputs": [
    {
     "name": "stdin",
     "output_type": "stream",
     "text": [
      "Enter an number to determine a day :  7\n"
     ]
    },
    {
     "data": {
      "text/plain": [
       "'Sunday'"
      ]
     },
     "execution_count": 38,
     "metadata": {},
     "output_type": "execute_result"
    }
   ],
   "source": [
    "def day():\n",
    "    n=int(input(\"Enter an number to determine a day : \"))\n",
    "    if 0<n<=7:\n",
    "        if n==1:\n",
    "            return \"Monday\"\n",
    "        if n==2:\n",
    "            return \"Tuesday\"\n",
    "        if n==3:\n",
    "            return \"Wednesday\"\n",
    "        if n==4:\n",
    "            return \"Thursday\"\n",
    "        if n==5:\n",
    "            return \"Friday\"\n",
    "        if n==6:\n",
    "            return \"Saturday\"\n",
    "        if n==7:\n",
    "            return \"Sunday\"\n",
    "    else:\n",
    "        return \"Invalid Number\"\n",
    "day()"
   ]
  },
  {
   "cell_type": "code",
   "execution_count": null,
   "id": "e4451d4b-a787-4734-8ec9-c137731e3b3d",
   "metadata": {},
   "outputs": [],
   "source": [
    "#14 Create a Python program that checks if a given year is a leap year using both if-else and a function"
   ]
  },
  {
   "cell_type": "code",
   "execution_count": null,
   "id": "be384edd-abe7-4743-84d4-0b8406ff3945",
   "metadata": {},
   "outputs": [],
   "source": [
    "def leapcheck():\n",
    "    a=int(input(\"Enter an Year : \"))\n",
    "    if a>1900 and a%4==0:\n",
    "        return \"Leap Year\"\n",
    "    else:\n",
    "        return \"Normal Year\"\n",
    "leapcheck()"
   ]
  },
  {
   "cell_type": "code",
   "execution_count": null,
   "id": "271eb83b-6dee-4597-b1c9-f7d7bca107dd",
   "metadata": {},
   "outputs": [],
   "source": [
    "#15 How do you use the \"assert\" statement in Python to add debugging checks within if-else blocks?"
   ]
  },
  {
   "cell_type": "code",
   "execution_count": 44,
   "id": "b6d1e857-4c8d-4671-86f7-555b173e053c",
   "metadata": {},
   "outputs": [
    {
     "ename": "AssertionError",
     "evalue": "Cannot divide by zero",
     "output_type": "error",
     "traceback": [
      "\u001b[0;31m---------------------------------------------------------------------------\u001b[0m",
      "\u001b[0;31mAssertionError\u001b[0m                            Traceback (most recent call last)",
      "Cell \u001b[0;32mIn[44], line 10\u001b[0m\n\u001b[1;32m      7\u001b[0m     \u001b[38;5;28;01massert\u001b[39;00m y \u001b[38;5;241m!=\u001b[39m \u001b[38;5;241m0\u001b[39m, \u001b[38;5;124m\"\u001b[39m\u001b[38;5;124mCannot divide by zero\u001b[39m\u001b[38;5;124m\"\u001b[39m\n\u001b[1;32m      8\u001b[0m     \u001b[38;5;28;01mreturn\u001b[39;00m x \u001b[38;5;241m/\u001b[39m y\n\u001b[0;32m---> 10\u001b[0m \u001b[43mdivide\u001b[49m\u001b[43m(\u001b[49m\u001b[38;5;241;43m10\u001b[39;49m\u001b[43m,\u001b[49m\u001b[43m \u001b[49m\u001b[38;5;241;43m0\u001b[39;49m\u001b[43m)\u001b[49m\n\u001b[1;32m     12\u001b[0m \u001b[38;5;66;03m#In this example, if the second argument y is zero, the assertion y != 0 will fail,\u001b[39;00m\n\u001b[1;32m     13\u001b[0m \u001b[38;5;66;03m#and an AssertionError with the message \"Cannot divide by zero\" will be raised.\u001b[39;00m\n\u001b[1;32m     14\u001b[0m \u001b[38;5;66;03m#This helps identify the issue quickly during development.\u001b[39;00m\n",
      "Cell \u001b[0;32mIn[44], line 7\u001b[0m, in \u001b[0;36mdivide\u001b[0;34m(x, y)\u001b[0m\n\u001b[1;32m      6\u001b[0m \u001b[38;5;28;01mdef\u001b[39;00m \u001b[38;5;21mdivide\u001b[39m(x, y):\n\u001b[0;32m----> 7\u001b[0m     \u001b[38;5;28;01massert\u001b[39;00m y \u001b[38;5;241m!=\u001b[39m \u001b[38;5;241m0\u001b[39m, \u001b[38;5;124m\"\u001b[39m\u001b[38;5;124mCannot divide by zero\u001b[39m\u001b[38;5;124m\"\u001b[39m\n\u001b[1;32m      8\u001b[0m     \u001b[38;5;28;01mreturn\u001b[39;00m x \u001b[38;5;241m/\u001b[39m y\n",
      "\u001b[0;31mAssertionError\u001b[0m: Cannot divide by zero"
     ]
    }
   ],
   "source": [
    "#The assert statement in Python is used to assert that a certain condition is true.\n",
    "#It's often used as a debugging aid during development to catch potential errors in the code.\n",
    "#When an assert statement is encountered, Python evaluates the accompanying expression, which should return True.\n",
    "#If the expression evaluates to False, Python raises an AssertionError exception.\n",
    "\n",
    "def divide(x, y):\n",
    "    assert y != 0, \"Cannot divide by zero\"\n",
    "    return x / y\n",
    "\n",
    "divide(10, 0)\n",
    "\n",
    "#In this example, if the second argument y is zero, the assertion y != 0 will fail,\n",
    "#and an AssertionError with the message \"Cannot divide by zero\" will be raised.\n",
    "#This helps identify the issue quickly during development."
   ]
  },
  {
   "cell_type": "code",
   "execution_count": null,
   "id": "891d92ea-d63f-444d-ae1e-6f2b8ecd67d3",
   "metadata": {},
   "outputs": [],
   "source": [
    "#16 Create a Python program that determines the eligibility of a person for a senior citizen discount based on age using if-else."
   ]
  },
  {
   "cell_type": "code",
   "execution_count": 46,
   "id": "432a6278-5f03-4d03-8e10-c6f85efca6f7",
   "metadata": {},
   "outputs": [
    {
     "name": "stdin",
     "output_type": "stream",
     "text": [
      "Enter your age :  14\n"
     ]
    },
    {
     "data": {
      "text/plain": [
       "'Not elligible for the discount'"
      ]
     },
     "execution_count": 46,
     "metadata": {},
     "output_type": "execute_result"
    }
   ],
   "source": [
    "def age():\n",
    "    n=int(input(\"Enter your age : \"))\n",
    "    if n>=50:\n",
    "        return \"Elligible for the discount\"\n",
    "    else:\n",
    "        return \"Not elligible for the discount\"\n",
    "age()"
   ]
  },
  {
   "cell_type": "code",
   "execution_count": null,
   "id": "69422dd3-4cd6-429c-9d00-c955b3a579f5",
   "metadata": {},
   "outputs": [],
   "source": [
    "#17 Write a Python program to categorize a given character as uppercase, lowercase, or neither using if-else."
   ]
  },
  {
   "cell_type": "code",
   "execution_count": 50,
   "id": "e33e2a2d-9335-47cc-b3bf-f99ac999a74e",
   "metadata": {},
   "outputs": [
    {
     "name": "stdin",
     "output_type": "stream",
     "text": [
      "Enter an Character :  4\n"
     ]
    },
    {
     "data": {
      "text/plain": [
       "'Invalid Input'"
      ]
     },
     "execution_count": 50,
     "metadata": {},
     "output_type": "execute_result"
    }
   ],
   "source": [
    "def cate():\n",
    "    n=input(\"Enter an Character : \")\n",
    "    if n.isupper()==True:\n",
    "        return \"Uppercase\"\n",
    "    if n.islower()==True:\n",
    "        return \"Lowecase\"\n",
    "    else:\n",
    "        return \"Invalid Input\"\n",
    "cate()"
   ]
  },
  {
   "cell_type": "code",
   "execution_count": null,
   "id": "7ea0e412-a86b-4ccf-bf63-5b3bab981822",
   "metadata": {},
   "outputs": [],
   "source": [
    "#18 Write a Python program to determine the roots of a quadratic equation using if-else."
   ]
  },
  {
   "cell_type": "code",
   "execution_count": 55,
   "id": "f0028adf-7ee1-4b61-a808-8d59d37cf236",
   "metadata": {},
   "outputs": [
    {
     "name": "stdin",
     "output_type": "stream",
     "text": [
      "Enter the coefficient of x^2 (a):  1\n",
      "Enter the coefficient of x (b):  4\n",
      "Enter the constant term (c):  4\n"
     ]
    },
    {
     "name": "stdout",
     "output_type": "stream",
     "text": [
      "The roots are real numbers:\n",
      "Root 1: -2.0\n",
      "Root 2: -2.0\n"
     ]
    }
   ],
   "source": [
    "import math\n",
    "\n",
    "def calculate_roots(a, b, c):\n",
    "    discriminant = b**2 - 4*a*c\n",
    "\n",
    "    if discriminant > 0:\n",
    "        root1 = (-b + math.sqrt(discriminant)) / (2*a)\n",
    "        root2 = (-b - math.sqrt(discriminant)) / (2*a)\n",
    "        return root1, root2\n",
    "    elif discriminant == 0:\n",
    "        root = -b / (2*a)\n",
    "        return root, root\n",
    "    else:\n",
    "        real_part = -b / (2*a)\n",
    "        imaginary_part = math.sqrt(abs(discriminant)) / (2*a)\n",
    "        root1 = complex(real_part, imaginary_part)\n",
    "        root2 = complex(real_part, -imaginary_part)\n",
    "        return root1, root2\n",
    "\n",
    "def main():\n",
    "    try:\n",
    "        a = float(input(\"Enter the coefficient of x^2 (a): \"))\n",
    "        b = float(input(\"Enter the coefficient of x (b): \"))\n",
    "        c = float(input(\"Enter the constant term (c): \"))\n",
    "\n",
    "        roots = calculate_roots(a, b, c)\n",
    "        if isinstance(roots[0], complex):\n",
    "            print(\"The roots are complex numbers:\")\n",
    "            print(\"Root 1:\", roots[0])\n",
    "            print(\"Root 2:\", roots[1])\n",
    "        else:\n",
    "            print(\"The roots are real numbers:\")\n",
    "            print(\"Root 1:\", roots[0])\n",
    "            print(\"Root 2:\", roots[1])\n",
    "    except ValueError:\n",
    "        print(\"Invalid input. Please enter valid coefficients.\")\n",
    "main()"
   ]
  },
  {
   "cell_type": "code",
   "execution_count": null,
   "id": "e18a5624-6cd5-439b-8e38-d0cd9ee41c35",
   "metadata": {},
   "outputs": [],
   "source": [
    "#19 Create a Python program that checks if a given year is a century year or not using if-else."
   ]
  },
  {
   "cell_type": "code",
   "execution_count": 1,
   "id": "07352ee2-fee0-415a-8d54-44195c285219",
   "metadata": {},
   "outputs": [
    {
     "name": "stdin",
     "output_type": "stream",
     "text": [
      "Enter an Year :  1200\n"
     ]
    },
    {
     "data": {
      "text/plain": [
       "'Century Year'"
      ]
     },
     "execution_count": 1,
     "metadata": {},
     "output_type": "execute_result"
    }
   ],
   "source": [
    "def leapcheck():\n",
    "    a=int(input(\"Enter an Year : \"))\n",
    "    if a%100==0:\n",
    "        return \"Century Year\"\n",
    "    else:\n",
    "        return \"Normal Year\"\n",
    "leapcheck()"
   ]
  },
  {
   "cell_type": "code",
   "execution_count": null,
   "id": "704b6c33-0bda-4f4b-a977-9fac82231459",
   "metadata": {},
   "outputs": [],
   "source": [
    "#20 Write a Python program to determine if a given number is a perfect square using if-else."
   ]
  },
  {
   "cell_type": "code",
   "execution_count": 9,
   "id": "1d167959-123f-4ed7-837a-3924224bdbed",
   "metadata": {},
   "outputs": [
    {
     "name": "stdin",
     "output_type": "stream",
     "text": [
      "Enter an Number :  49\n"
     ]
    },
    {
     "data": {
      "text/plain": [
       "'Perfect Square'"
      ]
     },
     "execution_count": 9,
     "metadata": {},
     "output_type": "execute_result"
    }
   ],
   "source": [
    "def ps():\n",
    "    a=int(input(\"Enter an Number : \"))\n",
    "    b=a**0.5\n",
    "    if b.is_integer():\n",
    "        return \"Perfect Square\"\n",
    "    else:\n",
    "        return \"Not a Perfect Square\"\n",
    "ps()"
   ]
  },
  {
   "cell_type": "code",
   "execution_count": null,
   "id": "8fb7c4ac-00f9-4fda-bc8c-994d4593d0fb",
   "metadata": {},
   "outputs": [],
   "source": [
    "#21 Explain the purpose of the \"continue\" and \"break\" statements within if-else loops."
   ]
  },
  {
   "cell_type": "code",
   "execution_count": null,
   "id": "43483d2f-6781-4e5e-a874-ec7b5de2f92f",
   "metadata": {},
   "outputs": [],
   "source": [
    "#These statements are useful for controlling the flow of execution within loops based on certain conditions.\n",
    "#continue allows you to skip specific iterations, while break allows you to prematurely exit the loop entirely."
   ]
  },
  {
   "cell_type": "code",
   "execution_count": null,
   "id": "b190cf5e-d13c-4c89-a36f-ef0c4cfa23b5",
   "metadata": {},
   "outputs": [],
   "source": [
    "#22 Create a Python program that calculates the BMI (Body Mass Index) of a person based on their weight and height using if-else."
   ]
  },
  {
   "cell_type": "code",
   "execution_count": 11,
   "id": "97df7abb-0744-4dc3-90ec-62c44381e938",
   "metadata": {},
   "outputs": [
    {
     "name": "stdin",
     "output_type": "stream",
     "text": [
      "Enter your weight in kilograms:  95\n",
      "Enter your height in meters:  1.626\n"
     ]
    },
    {
     "name": "stdout",
     "output_type": "stream",
     "text": [
      "Your BMI is: 35.93209363827956\n",
      "You are obese.\n"
     ]
    }
   ],
   "source": [
    "def bmi():\n",
    "    weight = float(input(\"Enter your weight in kilograms: \"))\n",
    "    height = float(input(\"Enter your height in meters: \"))\n",
    "    return weight / (height ** 2)\n",
    "\n",
    "bmi = bmi()\n",
    "\n",
    "print(\"Your BMI is:\", bmi)\n",
    "\n",
    "if bmi < 18.5:\n",
    "    print(\"You are underweight.\")\n",
    "elif bmi >= 18.5 and bmi < 25:\n",
    "    print(\"Your weight is normal.\")\n",
    "elif bmi >= 25 and bmi < 30:\n",
    "    print(\"You are overweight.\")\n",
    "else:\n",
    "    print(\"You are obese.\")"
   ]
  },
  {
   "cell_type": "code",
   "execution_count": null,
   "id": "523559c3-11a1-4517-b6d8-61341ee4936c",
   "metadata": {},
   "outputs": [],
   "source": [
    "#23 How can you use the \"filter()\" function with if-else statements to filter elements from a list?"
   ]
  },
  {
   "cell_type": "code",
   "execution_count": 14,
   "id": "ff747e4d-cb7d-439c-a399-803e8214b6a8",
   "metadata": {},
   "outputs": [
    {
     "name": "stdout",
     "output_type": "stream",
     "text": [
      "Filtered numbers: [2, 4, 6, 8, 10]\n"
     ]
    }
   ],
   "source": [
    "numbers = [1, 2, 3, 4, 5, 6, 7, 8, 9, 10]\n",
    "def even(number):\n",
    "    if number % 2 == 0:\n",
    "        return True\n",
    "    else:\n",
    "        return False\n",
    "filtered = filter(even, numbers)\n",
    "final = list(filtered)\n",
    "print(\"Filtered numbers:\", final)"
   ]
  },
  {
   "cell_type": "code",
   "execution_count": null,
   "id": "6e054b4d-c3d4-4972-8724-78e325fadd76",
   "metadata": {},
   "outputs": [],
   "source": [
    "#24 Write a Python program to determine if a given number is prime or not using if-else."
   ]
  },
  {
   "cell_type": "code",
   "execution_count": 42,
   "id": "b5947d56-936c-4f63-bcb1-503da153c8b8",
   "metadata": {},
   "outputs": [
    {
     "name": "stdin",
     "output_type": "stream",
     "text": [
      "Enter a number:  223\n"
     ]
    },
    {
     "name": "stdout",
     "output_type": "stream",
     "text": [
      "223 is a prime number.\n"
     ]
    }
   ],
   "source": [
    "def is_prime(number):\n",
    "    if number <= 1:\n",
    "        return False\n",
    "    elif number <= 3:\n",
    "        return True \n",
    "    elif number % 2 == 0 or number % 3 == 0:\n",
    "        return False\n",
    "    else:\n",
    "        for i in range(5, int(number ** 0.5) + 1, 6):\n",
    "            if number % i == 0 or number % (i + 2) == 0:\n",
    "                return False\n",
    "        return True\n",
    "\n",
    "number = int(input(\"Enter a number: \"))\n",
    "\n",
    "if is_prime(number):\n",
    "    print(f\"{number} is a prime number.\")\n",
    "else:\n",
    "    print(f\"{number} is not a prime number.\")"
   ]
  },
  {
   "cell_type": "code",
   "execution_count": null,
   "id": "0c768bb6-05da-42e9-b4ae-b64faf7e864b",
   "metadata": {},
   "outputs": [],
   "source": [
    "Map problems"
   ]
  },
  {
   "cell_type": "code",
   "execution_count": null,
   "id": "a2aeb084-9e40-4079-86b4-8f738d642e75",
   "metadata": {},
   "outputs": [],
   "source": [
    "#1 Explain the purpose of the `map()` function in Python \n",
    "#and provide an example of how it can be used to apply a function to each element of an iterable"
   ]
  },
  {
   "cell_type": "code",
   "execution_count": 1,
   "id": "eab25fcc-f116-42ae-97aa-3554111893d6",
   "metadata": {},
   "outputs": [
    {
     "data": {
      "text/plain": [
       "['hseham', 'htihsraH', 'sllikswp']"
      ]
     },
     "execution_count": 1,
     "metadata": {},
     "output_type": "execute_result"
    }
   ],
   "source": [
    "#map() function in Python is used to apply a specified function to each item in an iterable (such as a list, tuple, or dictionary) \n",
    "#and returns a map object (an iterator) containing the results.\n",
    "#The map() function takes two arguments: the function to apply and the iterable.\n",
    "l=[\"mahesh\",\"Harshith\",\"pwskills\"]\n",
    "list(map(lambda a: a[::-1],l))"
   ]
  },
  {
   "cell_type": "code",
   "execution_count": null,
   "id": "838e5f5c-c7b4-4a88-9639-4fef212331a4",
   "metadata": {},
   "outputs": [],
   "source": [
    "#2 Write a Python program that uses the `map()` function to square each element of a list of numbers."
   ]
  },
  {
   "cell_type": "code",
   "execution_count": 2,
   "id": "b0de120e-ced8-4619-8821-b024b39ce272",
   "metadata": {},
   "outputs": [
    {
     "data": {
      "text/plain": [
       "[1, 4, 9, 16, 25, 36, 49, 64, 81, 100]"
      ]
     },
     "execution_count": 2,
     "metadata": {},
     "output_type": "execute_result"
    }
   ],
   "source": [
    "lst=[1,2,3,4,5,6,7,8,9,10]\n",
    "list(map(lambda a:a**2,lst))"
   ]
  },
  {
   "cell_type": "code",
   "execution_count": null,
   "id": "fc760d20-45e4-4b20-a4a3-2bc625235509",
   "metadata": {},
   "outputs": [],
   "source": [
    "#3 How does the `map()` function differ from a list comprehension in Python, and when would you choose one over the other?"
   ]
  },
  {
   "cell_type": "code",
   "execution_count": null,
   "id": "a440368e-4d71-4dc4-a08b-c6592aa5db41",
   "metadata": {},
   "outputs": [],
   "source": [
    "#map() returns a map object, which is an iterator. To see the results, you usually need to convert it into a list or another iterable type.\n",
    "#map() when you want to apply a function to every item in an iterable, especially if the function is already defined and reusable.\n",
    "#It can be particularly useful when you have multiple iterables to process in parallel, \n",
    "#as map() can accept multiple iterables and apply a function with corresponding elements.\n",
    "\n",
    "#List comprehension returns a new list containing the results of the expression for each item in the iterable.\n",
    "#List comprehensions are preferred when the transformation is simple and can be expressed concisely. \n",
    "#They are often more readable and Pythonic, especially for simple transformations or when creating new lists."
   ]
  },
  {
   "cell_type": "code",
   "execution_count": null,
   "id": "a851e6f3-8c95-447a-91b9-ee679b79e40f",
   "metadata": {},
   "outputs": [],
   "source": [
    "#4 Create a Python program that uses the `map()` function to convert a list of names to uppercase."
   ]
  },
  {
   "cell_type": "code",
   "execution_count": 3,
   "id": "3f612cf0-6eb0-4e11-99ed-cb2b0f812752",
   "metadata": {},
   "outputs": [
    {
     "data": {
      "text/plain": [
       "['MAHESH', 'HARSHITH', 'PWSKILLS']"
      ]
     },
     "execution_count": 3,
     "metadata": {},
     "output_type": "execute_result"
    }
   ],
   "source": [
    "list(map(lambda a:a.upper(),l))"
   ]
  },
  {
   "cell_type": "code",
   "execution_count": null,
   "id": "96005d85-2732-465c-b346-4c87a3f1ec78",
   "metadata": {},
   "outputs": [],
   "source": [
    "#5 Write a Python program that uses the `map()` function to calculate the length of each word in a list of strings."
   ]
  },
  {
   "cell_type": "code",
   "execution_count": 4,
   "id": "eee670fc-a4df-46c4-925c-54fbf415a504",
   "metadata": {},
   "outputs": [
    {
     "data": {
      "text/plain": [
       "[6, 8, 8]"
      ]
     },
     "execution_count": 4,
     "metadata": {},
     "output_type": "execute_result"
    }
   ],
   "source": [
    "list(map(lambda a:len(a),l))"
   ]
  },
  {
   "cell_type": "code",
   "execution_count": null,
   "id": "9c00f00b-659d-40f0-a003-f7eda111ad0c",
   "metadata": {},
   "outputs": [],
   "source": [
    "#6 How can you use the `map()` function to apply a custom function to elements of multiple lists simultaneously in Python?"
   ]
  },
  {
   "cell_type": "code",
   "execution_count": 5,
   "id": "20cc8ac9-9753-4a7f-9304-d22fc0ae4402",
   "metadata": {},
   "outputs": [
    {
     "data": {
      "text/plain": [
       "[5, 7, 9]"
      ]
     },
     "execution_count": 5,
     "metadata": {},
     "output_type": "execute_result"
    }
   ],
   "source": [
    "list1 = [1, 2, 3]\n",
    "list2 = [4, 5, 6]\n",
    "\n",
    "def add(x, y):\n",
    "    return x + y\n",
    "\n",
    "list(map(add, list1, list2))"
   ]
  },
  {
   "cell_type": "code",
   "execution_count": null,
   "id": "babd7552-e74b-426a-bf20-1772d2ba7e5d",
   "metadata": {},
   "outputs": [],
   "source": [
    "#7 Create a Python program that uses `map()` to convert a list of temperatures from Celsius to Fahrenheit."
   ]
  },
  {
   "cell_type": "code",
   "execution_count": 13,
   "id": "b5b1afcd-abcc-4139-bbe1-46e982751843",
   "metadata": {},
   "outputs": [
    {
     "data": {
      "text/plain": [
       "[89.6, 93.2, 132.8, 172.4, 215.6]"
      ]
     },
     "execution_count": 13,
     "metadata": {},
     "output_type": "execute_result"
    }
   ],
   "source": [
    "a=[32,34,56,78,102]\n",
    "def conversion(x):\n",
    "    f=(x*1.8)+32\n",
    "    return f\n",
    "list(map(conversion,a))"
   ]
  },
  {
   "cell_type": "code",
   "execution_count": null,
   "id": "8f8c6a33-cace-4b85-9d53-a0048112cd34",
   "metadata": {},
   "outputs": [],
   "source": [
    "#8 Write a Python program that uses the `map()` function to round each element of a list of floating-point numbers to the nearest integer."
   ]
  },
  {
   "cell_type": "code",
   "execution_count": 18,
   "id": "fe893f66-5b5f-4071-91fb-20542b2343ed",
   "metadata": {},
   "outputs": [
    {
     "data": {
      "text/plain": [
       "[32, 34, 56, 78, 102]"
      ]
     },
     "execution_count": 18,
     "metadata": {},
     "output_type": "execute_result"
    }
   ],
   "source": [
    "a=[32.4,34.3,56.2,78.1,102.5]\n",
    "list(map(lambda a:int(a//1),a))"
   ]
  },
  {
   "cell_type": "code",
   "execution_count": null,
   "id": "aa7d5e20-3094-4108-b52d-c0606fc0e760",
   "metadata": {},
   "outputs": [],
   "source": [
    "Reduce Problems"
   ]
  },
  {
   "cell_type": "code",
   "execution_count": null,
   "id": "bcae7453-2583-468b-9baa-55e36c4128f7",
   "metadata": {},
   "outputs": [],
   "source": [
    "#1 What is the `reduce()` function in Python, and what module should you import to use it? Provide an example of its basic usage."
   ]
  },
  {
   "cell_type": "code",
   "execution_count": 1,
   "id": "b2c33250-50b2-48a6-bce9-a8cc352f3606",
   "metadata": {},
   "outputs": [],
   "source": [
    "#The reduce() function in Python is used to apply a function of two arguments cumulatively to the items of an iterable, \n",
    "#from left to right, so as to reduce the iterable to a single value. \n",
    "#It's part of the functools module, so you need to import functools to use it.\n",
    "from functools import reduce"
   ]
  },
  {
   "cell_type": "code",
   "execution_count": null,
   "id": "16186032-94ba-4c9f-82d3-19a3a146139d",
   "metadata": {},
   "outputs": [],
   "source": [
    "#2 Write a Python program that uses the `reduce()` function to find the product of all elements in a list."
   ]
  },
  {
   "cell_type": "code",
   "execution_count": 5,
   "id": "cd314f0c-9944-4815-9dbf-79e05994350d",
   "metadata": {},
   "outputs": [
    {
     "data": {
      "text/plain": [
       "484743168"
      ]
     },
     "execution_count": 5,
     "metadata": {},
     "output_type": "execute_result"
    }
   ],
   "source": [
    "lst=[32, 34, 56, 78, 102]\n",
    "reduce(lambda a,b:a*b,lst)"
   ]
  },
  {
   "cell_type": "code",
   "execution_count": null,
   "id": "f88f8bfe-fd01-4446-bada-46fd561e0a3e",
   "metadata": {},
   "outputs": [],
   "source": [
    "#3 Create a Python program that uses `reduce()` to find the maximum element in a list of numbers."
   ]
  },
  {
   "cell_type": "code",
   "execution_count": 7,
   "id": "bd222365-16e1-4940-b153-12e2365d9b02",
   "metadata": {},
   "outputs": [
    {
     "data": {
      "text/plain": [
       "102"
      ]
     },
     "execution_count": 7,
     "metadata": {},
     "output_type": "execute_result"
    }
   ],
   "source": [
    "lst=[32, 34, 56, 78, 102]\n",
    "reduce(lambda a,b:a if a>b else b,lst)"
   ]
  },
  {
   "cell_type": "code",
   "execution_count": null,
   "id": "7a2867b0-d6b9-49cf-8117-3097c784f2dc",
   "metadata": {},
   "outputs": [],
   "source": [
    "#4 How can you use the `reduce()` function to concatenate a list of strings into a single string?"
   ]
  },
  {
   "cell_type": "code",
   "execution_count": 14,
   "id": "f26fbb89-2502-4820-9207-5703ecaf3226",
   "metadata": {},
   "outputs": [
    {
     "data": {
      "text/plain": [
       "'Hi i am living in Bangalore'"
      ]
     },
     "execution_count": 14,
     "metadata": {},
     "output_type": "execute_result"
    }
   ],
   "source": [
    "a=\"Hi i am living\"\n",
    "b=\" in Bangalore\"\n",
    "reduce(lambda a,b:a+b,(a,b))"
   ]
  },
  {
   "cell_type": "code",
   "execution_count": null,
   "id": "b42f7121-ced2-4f83-8418-f14674265b74",
   "metadata": {},
   "outputs": [],
   "source": [
    "#5 Write a Python program that calculates the factorial of a number using the `reduce()` function."
   ]
  },
  {
   "cell_type": "code",
   "execution_count": 31,
   "id": "f4836c41-3eca-4e83-b94b-80e2454f9f33",
   "metadata": {},
   "outputs": [
    {
     "name": "stdin",
     "output_type": "stream",
     "text": [
      "Enter an Number :  10\n"
     ]
    },
    {
     "data": {
      "text/plain": [
       "3628800"
      ]
     },
     "execution_count": 31,
     "metadata": {},
     "output_type": "execute_result"
    }
   ],
   "source": [
    "a=int(input(\"Enter an Number : \"))\n",
    "b=[]\n",
    "for i in range(1,a+1):\n",
    "    b.append(i)\n",
    "reduce(lambda a,b:a*b,b)"
   ]
  },
  {
   "cell_type": "code",
   "execution_count": 29,
   "id": "f27e041a-3056-428a-9b37-df0189d94e92",
   "metadata": {},
   "outputs": [],
   "source": [
    "#6 Create a Python program that uses `reduce()` to find the GCD (Greatest Common Divisor) of a list of numbers."
   ]
  },
  {
   "cell_type": "code",
   "execution_count": 32,
   "id": "1eba5771-47e9-4fa6-bf8d-f64a7865121d",
   "metadata": {},
   "outputs": [
    {
     "name": "stdout",
     "output_type": "stream",
     "text": [
      "GCD of the numbers: 12\n"
     ]
    }
   ],
   "source": [
    "from functools import reduce\n",
    "import math\n",
    "def gcd(x, y):\n",
    "    return math.gcd(x, y)\n",
    "numbers = [24, 36, 48, 60]\n",
    "gcd_result = reduce(gcd, numbers)\n",
    "\n",
    "print(\"GCD of the numbers:\", gcd_result)"
   ]
  },
  {
   "cell_type": "code",
   "execution_count": null,
   "id": "3eedae8f-fc30-42dc-a6fb-98b6a5b8c0da",
   "metadata": {},
   "outputs": [],
   "source": [
    "#7 Write a Python program that uses the `reduce()` function to find the sum of the digits of a given number."
   ]
  },
  {
   "cell_type": "code",
   "execution_count": 35,
   "id": "18fae841-8ad9-4d0d-af82-1dcbb85f8291",
   "metadata": {},
   "outputs": [
    {
     "name": "stdin",
     "output_type": "stream",
     "text": [
      "Enter an number :  45\n"
     ]
    },
    {
     "data": {
      "text/plain": [
       "9"
      ]
     },
     "execution_count": 35,
     "metadata": {},
     "output_type": "execute_result"
    }
   ],
   "source": [
    "a=int(input(\"Enter an number : \"))\n",
    "b=list(str(a))\n",
    "def add(x,y):\n",
    "    return int(x)+int(y)\n",
    "reduce(add,b)"
   ]
  },
  {
   "cell_type": "code",
   "execution_count": null,
   "id": "660c9622-a995-4344-8c2a-610d44d45900",
   "metadata": {},
   "outputs": [],
   "source": [
    "#Filter problems"
   ]
  },
  {
   "cell_type": "code",
   "execution_count": 33,
   "id": "5171e747-dbdd-4b10-8c27-53643fd89675",
   "metadata": {},
   "outputs": [
    {
     "data": {
      "text/plain": [
       "['2', '3']"
      ]
     },
     "execution_count": 33,
     "metadata": {},
     "output_type": "execute_result"
    }
   ],
   "source": [
    "#1 Explain the purpose of the `filter()` function in Python and provide an example of how it can be used to filter elements from an iterable."
   ]
  },
  {
   "cell_type": "code",
   "execution_count": 1,
   "id": "507dadca-c669-4732-841f-11c0f8408be5",
   "metadata": {},
   "outputs": [
    {
     "name": "stdout",
     "output_type": "stream",
     "text": [
      "[2, 4, 6, 8, 10]\n"
     ]
    }
   ],
   "source": [
    "#The filter() function in Python is used to create a new iterable (usually a list, tuple, or iterator) \n",
    "#that contains only the elements from the original iterable for which a specified function returns True.\n",
    "#It takes two arguments: the function that evaluates each element, and the iterable to be filtered.\n",
    "\n",
    "def is_even(n):\n",
    "    return n % 2 == 0\n",
    "numbers = [1, 2, 3, 4, 5, 6, 7, 8, 9, 10]\n",
    "even_numbers = list(filter(is_even, numbers))\n",
    "print(even_numbers)"
   ]
  },
  {
   "cell_type": "code",
   "execution_count": null,
   "id": "95fad9e4-8a7c-4657-b544-4de5d0b7dcb3",
   "metadata": {},
   "outputs": [],
   "source": [
    "#2 Write a Python program that uses the `filter()` function to select even numbers from a list of integers."
   ]
  },
  {
   "cell_type": "code",
   "execution_count": 2,
   "id": "01f0baf4-ac96-42c5-9fe9-6490db3a85b2",
   "metadata": {},
   "outputs": [
    {
     "name": "stdout",
     "output_type": "stream",
     "text": [
      "[2, 4, 6, 8, 10]\n"
     ]
    }
   ],
   "source": [
    "def is_even(n):\n",
    "    return n % 2 == 0\n",
    "numbers = [1, 2, 3, 4, 5, 6, 7, 8, 9, 10]\n",
    "even_numbers = list(filter(is_even, numbers))\n",
    "print(even_numbers)"
   ]
  },
  {
   "cell_type": "code",
   "execution_count": null,
   "id": "e5769a8f-49c9-4edb-acfe-b0ae710fe3c2",
   "metadata": {},
   "outputs": [],
   "source": [
    "#3 Create a Python program that uses the `filter()` function to select names that start with a specific letter from a list of strings"
   ]
  },
  {
   "cell_type": "code",
   "execution_count": 3,
   "id": "ff9316ad-e193-4e1f-b099-e9234565a105",
   "metadata": {},
   "outputs": [
    {
     "name": "stdout",
     "output_type": "stream",
     "text": [
      "Names that start with the letter C:\n",
      "Charlie\n"
     ]
    }
   ],
   "source": [
    "names = [\"Alice\", \"Bob\", \"Charlie\", \"David\", \"Eve\", \"Frank\", \"Grace\"]\n",
    "\n",
    "def starts_with_letter(name, letter):\n",
    "    return name.startswith(letter)\n",
    "\n",
    "start_letter = \"C\"\n",
    "filtered_names = list(filter(lambda name: starts_with_letter(name, start_letter), names))\n",
    "print(\"Names that start with the letter\", start_letter + \":\")\n",
    "for name in filtered_names:\n",
    "    print(name)"
   ]
  },
  {
   "cell_type": "code",
   "execution_count": null,
   "id": "281228d2-dabf-4831-8df8-73cab1a6a495",
   "metadata": {},
   "outputs": [],
   "source": [
    "#4 Write a Python program that uses the `filter()` function to select prime numbers from a list of integers."
   ]
  },
  {
   "cell_type": "code",
   "execution_count": 4,
   "id": "c0020762-1f2b-4b3b-b108-53ab8a5606d2",
   "metadata": {},
   "outputs": [
    {
     "name": "stdout",
     "output_type": "stream",
     "text": [
      "Prime numbers: [2, 3, 5, 7, 11, 13]\n"
     ]
    }
   ],
   "source": [
    "def is_prime(n):\n",
    "    if n <= 1:\n",
    "        return False\n",
    "    if n == 2:\n",
    "        return True\n",
    "    if n % 2 == 0:\n",
    "        return False\n",
    "    i = 3\n",
    "    while i * i <= n:\n",
    "        if n % i == 0:\n",
    "            return False\n",
    "        i += 2\n",
    "    return True\n",
    "\n",
    "\n",
    "numbers = [1, 2, 3, 4, 5, 6, 7, 8, 9, 10, 11, 12, 13, 14, 15]\n",
    "prime_numbers = list(filter(is_prime, numbers))\n",
    "print(\"Prime numbers:\", prime_numbers)"
   ]
  },
  {
   "cell_type": "code",
   "execution_count": null,
   "id": "82c8674d-60fd-458b-958a-85fc13a1166e",
   "metadata": {},
   "outputs": [],
   "source": [
    "#5 How can you use the `filter()` function to remove None values from a list in Python?"
   ]
  },
  {
   "cell_type": "code",
   "execution_count": 5,
   "id": "ba2093bc-a844-4e0e-84ee-7851b37310f5",
   "metadata": {},
   "outputs": [
    {
     "name": "stdout",
     "output_type": "stream",
     "text": [
      "Filtered values: [1, 2, 3, 4, 5]\n"
     ]
    }
   ],
   "source": [
    "#You can use the filter() function to remove None values from a list \n",
    "#by providing a predicate function that filters out None values.\n",
    "#Here's how you can do it:\n",
    "\n",
    "values = [1, None, 2, 3, None, 4, None, 5]\n",
    "filtered_values = list(filter(lambda x: x is not None, values))\n",
    "print(\"Filtered values:\", filtered_values)"
   ]
  },
  {
   "cell_type": "code",
   "execution_count": null,
   "id": "757d7b2c-5028-4c4a-9a84-ff0572a43ba8",
   "metadata": {},
   "outputs": [],
   "source": [
    "#6 Create a Python program that uses `filter()` to select words longer than a certain length from a list of strings."
   ]
  },
  {
   "cell_type": "code",
   "execution_count": 6,
   "id": "b01a7c84-e550-4734-b658-58c157def6e9",
   "metadata": {},
   "outputs": [
    {
     "name": "stdout",
     "output_type": "stream",
     "text": [
      "Words longer than 6 characters: ['strawberry', 'pineapple']\n"
     ]
    }
   ],
   "source": [
    "words = [\"apple\", \"banana\", \"grape\", \"orange\", \"kiwi\", \"strawberry\", \"pineapple\"]\n",
    "min_length = 6\n",
    "long_words = list(filter(lambda word: len(word) > min_length, words))\n",
    "print(\"Words longer than\", min_length, \"characters:\", long_words)"
   ]
  },
  {
   "cell_type": "code",
   "execution_count": null,
   "id": "782ff3a6-00a3-4a23-9da5-430c60be7800",
   "metadata": {},
   "outputs": [],
   "source": [
    "#7 Write a Python program that uses the `filter()` function to select elements greater than a specified threshold from a list of values."
   ]
  },
  {
   "cell_type": "code",
   "execution_count": 7,
   "id": "5e29711b-2062-43cc-b55a-fa3415d07e97",
   "metadata": {},
   "outputs": [
    {
     "name": "stdout",
     "output_type": "stream",
     "text": [
      "Values greater than 40 : [50, 60, 70]\n"
     ]
    }
   ],
   "source": [
    "values = [10, 20, 30, 40, 50, 60, 70]\n",
    "threshold = 40\n",
    "selected_values = list(filter(lambda x: x > threshold, values))\n",
    "print(\"Values greater than\", threshold, \":\", selected_values)"
   ]
  },
  {
   "cell_type": "code",
   "execution_count": null,
   "id": "d3872220-9156-4940-a468-2b2dc2794f12",
   "metadata": {},
   "outputs": [],
   "source": [
    "#Recursion Probelms"
   ]
  },
  {
   "cell_type": "code",
   "execution_count": null,
   "id": "68a730ad-8295-41c4-ba16-99da15fc4701",
   "metadata": {},
   "outputs": [],
   "source": [
    "#1 Explain the concept of recursion in Python. How does it differ from iteration?"
   ]
  },
  {
   "cell_type": "code",
   "execution_count": 9,
   "id": "7756ea83-7580-4af8-bd87-1798700264a3",
   "metadata": {},
   "outputs": [
    {
     "data": {
      "text/plain": [
       "120"
      ]
     },
     "execution_count": 9,
     "metadata": {},
     "output_type": "execute_result"
    }
   ],
   "source": [
    "#recursion and iteration both involve repetition, but recursion achieves repetition through function calls \n",
    "#and breaking down problems into smaller subproblems, while iteration achieves repetition through looping constructs. \n",
    "#Recursion can be more elegant and intuitive for certain problems, especially those that can be naturally broken down into smaller subproblems,\n",
    "#while iteration can be more efficient and straightforward in some cases.\n",
    "\n",
    "def factorial(n):\n",
    "    if n == 0:\n",
    "        return 1\n",
    "    else:\n",
    "        return n * factorial(n-1)\n",
    "factorial(5)"
   ]
  },
  {
   "cell_type": "code",
   "execution_count": null,
   "id": "127b6d87-9c50-48ea-8c2a-7fe636a39e1b",
   "metadata": {},
   "outputs": [],
   "source": [
    "#2 Write a Python program to calculate the factorial of a number using recursion."
   ]
  },
  {
   "cell_type": "code",
   "execution_count": 10,
   "id": "4104deac-859b-49d8-92dd-37924a2f1658",
   "metadata": {},
   "outputs": [
    {
     "data": {
      "text/plain": [
       "120"
      ]
     },
     "execution_count": 10,
     "metadata": {},
     "output_type": "execute_result"
    }
   ],
   "source": [
    "def factorial(n):\n",
    "    if n == 0:\n",
    "        return 1\n",
    "    else:\n",
    "        return n * factorial(n-1)\n",
    "factorial(5)"
   ]
  },
  {
   "cell_type": "code",
   "execution_count": null,
   "id": "81337f2b-6c8e-4423-b0ce-be8cd230d1f8",
   "metadata": {},
   "outputs": [],
   "source": [
    "#3 Create a recursive Python function to find the nth Fibonacci number."
   ]
  },
  {
   "cell_type": "code",
   "execution_count": 11,
   "id": "68d03f76-78c1-4430-afa1-fbff4c976c7d",
   "metadata": {},
   "outputs": [
    {
     "name": "stdout",
     "output_type": "stream",
     "text": [
      "The 10 th Fibonacci number is: 55\n"
     ]
    }
   ],
   "source": [
    "def fibonacci(n):\n",
    "    if n <= 1:\n",
    "        return n\n",
    "    else:\n",
    "        return fibonacci(n-1) + fibonacci(n-2)\n",
    "n = 10\n",
    "print(\"The\", n, \"th Fibonacci number is:\", fibonacci(n))"
   ]
  },
  {
   "cell_type": "code",
   "execution_count": null,
   "id": "7a876e1c-9414-412a-9c3d-12689a33c90b",
   "metadata": {},
   "outputs": [],
   "source": [
    "#4 Write a recursive Python function to calculate the sum of all elements in a list."
   ]
  },
  {
   "cell_type": "code",
   "execution_count": 12,
   "id": "e3e0c8c6-85ae-4227-9e99-3d1f32841d66",
   "metadata": {},
   "outputs": [
    {
     "name": "stdout",
     "output_type": "stream",
     "text": [
      "Sum of all elements in the list: 15\n"
     ]
    }
   ],
   "source": [
    "def sum_list(lst):\n",
    "    if not lst:\n",
    "        return 0\n",
    "    else:\n",
    "        return lst[0] + sum_list(lst[1:])\n",
    "\n",
    "my_list = [1, 2, 3, 4, 5]\n",
    "print(\"Sum of all elements in the list:\", sum_list(my_list))"
   ]
  },
  {
   "cell_type": "code",
   "execution_count": null,
   "id": "d271ca6a-c585-4776-a030-875a6cf5fa90",
   "metadata": {},
   "outputs": [],
   "source": [
    "#5 How can you prevent a recursive function from running indefinitely, causing a stack overflow error?"
   ]
  },
  {
   "cell_type": "code",
   "execution_count": null,
   "id": "bebd024b-0d8a-45b0-9e7e-67fe5ddfa624",
   "metadata": {},
   "outputs": [],
   "source": [
    "def factorial(n):\n",
    "    if n == 0:  # Base case: factorial(0) is 1\n",
    "        return 1\n",
    "    else:\n",
    "        return n * factorial(n - 1)  # Progress towards base case: decrement n\n",
    "\n",
    "#In this function, the base case n == 0 ensures that the recursion terminates when n reaches zero. \n",
    "#Additionally, the parameter n is decremented in each recursive call, ensuring progress towards the base case. \n",
    "#This prevents the function from running indefinitely."
   ]
  },
  {
   "cell_type": "code",
   "execution_count": null,
   "id": "8d94ac85-7bef-48a2-8c2e-d589deb0e5ed",
   "metadata": {},
   "outputs": [],
   "source": [
    "#6 Create a recursive Python function to find the greatest common divisor (GCD) of two numbers using the Euclidean algorithm."
   ]
  },
  {
   "cell_type": "code",
   "execution_count": 13,
   "id": "50e53350-512c-4a4b-addc-f20643764cf1",
   "metadata": {},
   "outputs": [
    {
     "name": "stdout",
     "output_type": "stream",
     "text": [
      "GCD of 48 and 18 is: 6\n"
     ]
    }
   ],
   "source": [
    "def gcd(a, b):\n",
    "    if b == 0:\n",
    "        return a\n",
    "    else:\n",
    "        return gcd(b, a % b)\n",
    "num1 = 48\n",
    "num2 = 18\n",
    "print(\"GCD of\", num1, \"and\", num2, \"is:\", gcd(num1, num2))"
   ]
  },
  {
   "cell_type": "code",
   "execution_count": null,
   "id": "685e0f1f-55eb-401e-bc8b-9168a0bdfba5",
   "metadata": {},
   "outputs": [],
   "source": [
    "#7 Write a recursive Python function to reverse a string."
   ]
  },
  {
   "cell_type": "code",
   "execution_count": 14,
   "id": "d5598ecd-85a7-4d99-81da-e5a5395ee3f5",
   "metadata": {},
   "outputs": [
    {
     "name": "stdout",
     "output_type": "stream",
     "text": [
      "Original string: hello\n",
      "Reversed string: olleh\n"
     ]
    }
   ],
   "source": [
    "def reverse_string(s):\n",
    "    if len(s) <= 1:\n",
    "        return s\n",
    "    else:\n",
    "        return s[-1] + reverse_string(s[:-1])\n",
    "my_string = \"hello\"\n",
    "print(\"Original string:\", my_string)\n",
    "print(\"Reversed string:\", reverse_string(my_string))"
   ]
  },
  {
   "cell_type": "code",
   "execution_count": null,
   "id": "8f38f1a3-d405-4bf4-87b6-ed5767e1e69b",
   "metadata": {},
   "outputs": [],
   "source": [
    "#8 Create a recursive Python function to calculate the power of a number (x^n)."
   ]
  },
  {
   "cell_type": "code",
   "execution_count": 15,
   "id": "25f225a3-1e8a-4438-ae2d-2a0f07bdae32",
   "metadata": {},
   "outputs": [
    {
     "name": "stdout",
     "output_type": "stream",
     "text": [
      "Power of 2 raised to 5 is: 32\n"
     ]
    }
   ],
   "source": [
    "def power(x, n):\n",
    "    if n == 0:\n",
    "        return 1\n",
    "    elif n == 1:\n",
    "        return x\n",
    "    elif n > 0:\n",
    "        return x * power(x, n - 1)\n",
    "    else:\n",
    "        return 1 / power(x, -n)\n",
    "x = 2\n",
    "n = 5\n",
    "print(\"Power of\", x, \"raised to\", n, \"is:\", power(x, n))"
   ]
  },
  {
   "cell_type": "code",
   "execution_count": null,
   "id": "1514d495-2ca8-4dfa-8a5e-b19ea257d892",
   "metadata": {},
   "outputs": [],
   "source": [
    "#9 Write a recursive Python function to find all permutations of a given string."
   ]
  },
  {
   "cell_type": "code",
   "execution_count": 16,
   "id": "26b1d940-275c-4931-9c6a-155f25fb7e05",
   "metadata": {},
   "outputs": [
    {
     "name": "stdout",
     "output_type": "stream",
     "text": [
      "Permutations of abc are: ['abc', 'acb', 'bac', 'bca', 'cab', 'cba']\n"
     ]
    }
   ],
   "source": [
    "def permutations(s):\n",
    "    if len(s) <= 1:\n",
    "        return [s]\n",
    "    else:\n",
    "        perms = []\n",
    "        for i in range(len(s)):\n",
    "            first_char = s[i]\n",
    "            remaining_chars = s[:i] + s[i+1:]\n",
    "            for perm in permutations(remaining_chars):\n",
    "                perms.append(first_char + perm)\n",
    "        return perms\n",
    "\n",
    "\n",
    "my_string = \"abc\"\n",
    "print(\"Permutations of\", my_string, \"are:\", permutations(my_string))"
   ]
  },
  {
   "cell_type": "code",
   "execution_count": null,
   "id": "67cb4caf-aa43-4cc1-a966-d6fe65ce0931",
   "metadata": {},
   "outputs": [],
   "source": [
    "#10 Write a recursive Python function to check if a string is a palindrome."
   ]
  },
  {
   "cell_type": "code",
   "execution_count": 17,
   "id": "ab6afe2d-dbc0-4d99-afe2-1da8f372a579",
   "metadata": {},
   "outputs": [
    {
     "name": "stdout",
     "output_type": "stream",
     "text": [
      "Entered String is palindrome\n"
     ]
    }
   ],
   "source": [
    "def reverse_string(s):\n",
    "    if len(s) <= 1:\n",
    "        return s\n",
    "    else:\n",
    "        return s[-1] + reverse_string(s[:-1])\n",
    "my_string = \"racecar\"\n",
    "a=my_string\n",
    "b=reverse_string(my_string)\n",
    "if a==b:\n",
    "    print(\"Entered String is palindrome\")\n",
    "else:\n",
    "    print(\"Not a palindrome\")"
   ]
  },
  {
   "cell_type": "code",
   "execution_count": null,
   "id": "835de1d8-2728-4c47-8e29-7b5b1d80eeac",
   "metadata": {},
   "outputs": [],
   "source": [
    "#11 Create a recursive Python function to generate all possible combinations of a list of elements."
   ]
  },
  {
   "cell_type": "code",
   "execution_count": 18,
   "id": "491cde80-1647-4947-b935-30d78f5e58df",
   "metadata": {},
   "outputs": [
    {
     "name": "stdout",
     "output_type": "stream",
     "text": [
      "Combinations of [1, 2, 3, 4] with length 2 are: [[1, 2], [1, 3], [1, 4], [2, 3], [2, 4], [3, 4]]\n"
     ]
    }
   ],
   "source": [
    "def combinations(elements, k):\n",
    "    if k == 0:\n",
    "        return [[]]\n",
    "    elif len(elements) == 0:\n",
    "        return []\n",
    "    else:\n",
    "        head = elements[0]\n",
    "        tail = elements[1:]\n",
    "        with_head = [[head] + combo for combo in combinations(tail, k - 1)]\n",
    "        without_head = combinations(tail, k)\n",
    "        return with_head + without_head\n",
    "\n",
    "my_elements = [1, 2, 3, 4]\n",
    "k = 2\n",
    "print(\"Combinations of\", my_elements, \"with length\", k, \"are:\", combinations(my_elements, k))"
   ]
  },
  {
   "cell_type": "code",
   "execution_count": null,
   "id": "19e625c1-4979-481d-ba3e-5ed9420337a4",
   "metadata": {},
   "outputs": [],
   "source": [
    "#basics of functions"
   ]
  },
  {
   "cell_type": "code",
   "execution_count": null,
   "id": "f869753c-be26-46bf-8ed0-017bd51cb561",
   "metadata": {},
   "outputs": [],
   "source": [
    "#1 What is a function in Python, and why is it used?"
   ]
  },
  {
   "cell_type": "code",
   "execution_count": null,
   "id": "fe66180b-7a34-4b7f-a271-bd61e90da649",
   "metadata": {},
   "outputs": [],
   "source": [
    "#functions are a fundamental building block of Python programming, enabling you to write more modular, reusable, \n",
    "#and maintainable code. They allow you to break down complex problems into smaller, \n",
    "#more manageable pieces, improving code readability, maintainability, and scalability."
   ]
  },
  {
   "cell_type": "code",
   "execution_count": null,
   "id": "bb1aa699-b54b-47d1-b950-ba950e203557",
   "metadata": {},
   "outputs": [],
   "source": [
    "#2 How do you define a function in Python? Provide an example."
   ]
  },
  {
   "cell_type": "code",
   "execution_count": null,
   "id": "b7e4527e-e63e-4912-84a0-6f9ddf4e9d3b",
   "metadata": {},
   "outputs": [],
   "source": [
    "def function_name(parameter1, parameter2, ...):\n",
    "    # Function body\n",
    "    # Code that defines the behavior of the function\n",
    "    # This may include variable assignments, conditionals, loops, etc.\n",
    "    return result  # Optional: Return statement\n",
    "\n",
    "def add_numbers(x, y):\n",
    "    # Function body: adds two numbers and returns the result\n",
    "    result = x + y\n",
    "    return result"
   ]
  },
  {
   "cell_type": "code",
   "execution_count": null,
   "id": "5dfea745-c05a-4eab-9c6f-405e9d093612",
   "metadata": {},
   "outputs": [],
   "source": [
    "#3 Explain the difference between a function definition and a function call."
   ]
  },
  {
   "cell_type": "code",
   "execution_count": null,
   "id": "4138ddcf-f5a0-4adc-a50d-f439d64ca455",
   "metadata": {},
   "outputs": [],
   "source": [
    "#A function definition is where you define the structure and behavior of a function, \n",
    "#while a function call is where you invoke or execute the function to perform a specific task with given inputs. \n",
    "#Function definitions create reusable blocks of code, while function calls actually execute that code with specific arguments."
   ]
  },
  {
   "cell_type": "code",
   "execution_count": null,
   "id": "23f947b5-02ec-4e6b-8916-15edd0f18665",
   "metadata": {},
   "outputs": [],
   "source": [
    "#4 Write a Python program that defines a function to calculate the sum of two numbers and then calls the function."
   ]
  },
  {
   "cell_type": "code",
   "execution_count": 21,
   "id": "0de8e71e-8b5c-4879-b4e3-a319bca64438",
   "metadata": {},
   "outputs": [
    {
     "data": {
      "text/plain": [
       "19"
      ]
     },
     "execution_count": 21,
     "metadata": {},
     "output_type": "execute_result"
    }
   ],
   "source": [
    "def add_numbers(x, y):\n",
    "    # Function body: adds two numbers and returns the result\n",
    "    result = x + y\n",
    "    return result\n",
    "\n",
    "add_numbers(9,10)"
   ]
  },
  {
   "cell_type": "code",
   "execution_count": null,
   "id": "559064b5-501f-49f9-a12c-46ddbe6745a0",
   "metadata": {},
   "outputs": [],
   "source": [
    "#5 What is a function signature, and what information does it typically include?"
   ]
  },
  {
   "cell_type": "code",
   "execution_count": null,
   "id": "f083759e-a8e1-46fe-9764-09e3eabebb42",
   "metadata": {},
   "outputs": [],
   "source": [
    "int add(int x, int y);\n",
    "\n",
    "Function Name: add\n",
    "Return Type: int (the function returns an integer)\n",
    "Parameters: Two parameters of type int, named x and y\n",
    "Function signatures are commonly used in programming documentation, header files, and when declaring or prototyping functions in source code. \n",
    "They serve as a contract between the function and its callers, specifying the inputs required by the function and the type of value it returns."
   ]
  },
  {
   "cell_type": "code",
   "execution_count": null,
   "id": "d091b759-54f4-49e2-b1a5-3af5ad689495",
   "metadata": {},
   "outputs": [],
   "source": [
    "#6 Create a Python function that takes two arguments and returns their product."
   ]
  },
  {
   "cell_type": "code",
   "execution_count": 22,
   "id": "1871a5f2-ed99-47b9-8d6a-1a49ed3cfd8e",
   "metadata": {},
   "outputs": [
    {
     "data": {
      "text/plain": [
       "90"
      ]
     },
     "execution_count": 22,
     "metadata": {},
     "output_type": "execute_result"
    }
   ],
   "source": [
    "def mul_numbers(x, y):\n",
    "    result = x*y\n",
    "    return result\n",
    "\n",
    "mul_numbers(9,10)"
   ]
  },
  {
   "cell_type": "code",
   "execution_count": null,
   "id": "8c65a7d1-c49a-4f76-9b26-336efb2587fb",
   "metadata": {},
   "outputs": [],
   "source": [
    "#function parameters and arguments"
   ]
  },
  {
   "cell_type": "code",
   "execution_count": null,
   "id": "56971dda-57de-459f-b8ef-17d8db437e40",
   "metadata": {},
   "outputs": [],
   "source": [
    "#1 Explain the concepts of formal parameters and actual arguments in Python functions."
   ]
  },
  {
   "cell_type": "code",
   "execution_count": null,
   "id": "0c06f104-b9a6-4a31-97ad-ab01bcaf9f90",
   "metadata": {},
   "outputs": [],
   "source": [
    "#Formal parameters are the variables defined in the function signature, serving as placeholders for the values to be passed to the function. \n",
    "#Actual arguments are the values provided to the function when it is called, matching the formal parameters specified in the function's signature. \n",
    "#They represent the actual data that the function will operate on during its execution."
   ]
  },
  {
   "cell_type": "code",
   "execution_count": null,
   "id": "18648b21-2d61-4023-8135-774ea8ebe0c3",
   "metadata": {},
   "outputs": [],
   "source": [
    "#2 Write a Python program that defines a function with default argument values."
   ]
  },
  {
   "cell_type": "code",
   "execution_count": 25,
   "id": "6e8aefcd-675b-432a-bff7-d2447fcb425b",
   "metadata": {},
   "outputs": [
    {
     "name": "stdout",
     "output_type": "stream",
     "text": [
      "Hello, Anonymous\n",
      "Hello, Alice\n"
     ]
    }
   ],
   "source": [
    "def greet(name=\"Anonymous\"):\n",
    "    print(\"Hello,\",name)\n",
    "greet()\n",
    "greet(\"Alice\")"
   ]
  },
  {
   "cell_type": "code",
   "execution_count": null,
   "id": "a44f3c9c-8507-4c86-9236-d3c56d911730",
   "metadata": {},
   "outputs": [],
   "source": [
    "#3 How do you use keyword arguments in Python function calls? Provide an example."
   ]
  },
  {
   "cell_type": "code",
   "execution_count": 27,
   "id": "348fd4e1-beae-4046-ba1a-06f61d2980d2",
   "metadata": {},
   "outputs": [
    {
     "name": "stdout",
     "output_type": "stream",
     "text": [
      "Hello, Alice! You are 30 years old.\n",
      "Hello, Bob! You are 25 years old.\n"
     ]
    }
   ],
   "source": [
    "#keyword arguments makes the function call more explicit and self-documenting, \n",
    "#especially when dealing with functions that have many parameters or optional arguments.\n",
    "\n",
    "def greet(name, age):\n",
    "    print(\"Hello,\", name + \"!\", \"You are\", age, \"years old.\")\n",
    "\n",
    "greet(name=\"Alice\", age=30)\n",
    "greet(age=25, name=\"Bob\")"
   ]
  },
  {
   "cell_type": "code",
   "execution_count": null,
   "id": "4463502e-a574-4145-ba6b-b92f99b177dc",
   "metadata": {},
   "outputs": [],
   "source": [
    "#4 Create a Python function that accepts a variable number of arguments and calculates their sum."
   ]
  },
  {
   "cell_type": "code",
   "execution_count": 28,
   "id": "586721dc-5e71-460e-abe1-2c866b2a43b5",
   "metadata": {},
   "outputs": [
    {
     "name": "stdout",
     "output_type": "stream",
     "text": [
      "Sum of numbers: 15\n"
     ]
    }
   ],
   "source": [
    "def sum_variable_args(*args):\n",
    "    total = 0\n",
    "    for num in args:\n",
    "        total += num\n",
    "    return total\n",
    "\n",
    "result = sum_variable_args(1, 2, 3, 4, 5)\n",
    "print(\"Sum of numbers:\", result)"
   ]
  },
  {
   "cell_type": "code",
   "execution_count": null,
   "id": "85682567-2444-42b7-b866-a0984b368789",
   "metadata": {},
   "outputs": [],
   "source": [
    "#5 What is the purpose of the `*args` and `**kwargs` syntax in function parameter lists?"
   ]
  },
  {
   "cell_type": "code",
   "execution_count": null,
   "id": "6a54d930-7464-4b03-98be-5086031a94b6",
   "metadata": {},
   "outputs": [],
   "source": [
    "#*args collects the positional arguments (1, 2, 3) into a tuple, \n",
    "#while **kwargs collects the keyword arguments name=\"Alice\" and age=30 into a dictionary."
   ]
  },
  {
   "cell_type": "code",
   "execution_count": null,
   "id": "b2321ae2-0803-4290-a6cf-e40894ae7cb4",
   "metadata": {},
   "outputs": [],
   "source": [
    "#Return Values and Scoping"
   ]
  },
  {
   "cell_type": "code",
   "execution_count": null,
   "id": "e7ee825a-9362-4504-90b8-022d0b5c9296",
   "metadata": {},
   "outputs": [],
   "source": [
    "#1 Describe the role of the `return` statement in Python functions and provide examples."
   ]
  },
  {
   "cell_type": "code",
   "execution_count": null,
   "id": "83767c98-19fd-4ff0-aa1a-0ac54799f11d",
   "metadata": {},
   "outputs": [],
   "source": [
    "#The return statement in Python functions is used to exit the function and optionally return a value or multiple values back to the caller. \n",
    "#It allows a function to compute a result and pass it back to the part of the program that called the function. \n",
    "#The return statement is typically the last statement in a function's body, \n",
    "#but it can appear anywhere within the function body to exit the function early."
   ]
  },
  {
   "cell_type": "code",
   "execution_count": null,
   "id": "ec2a5e54-0894-42d0-a5c4-688f762ffc66",
   "metadata": {},
   "outputs": [],
   "source": [
    "#2 Explain the concept of variable scope in Python, including local and global variables."
   ]
  },
  {
   "cell_type": "code",
   "execution_count": null,
   "id": "15f05dc9-6ce2-49f4-884d-be806cb153de",
   "metadata": {},
   "outputs": [],
   "source": [
    "#Variable scope in Python refers to the visibility and accessibility of variables within different parts of a program. \n",
    "#Python has several levels of variable scope, including local, enclosing (non-local), global, and built-in scopes.\n",
    "\n",
    "#local_var is a local variable defined inside the my_function function and is only accessible within the function.\n",
    "#global_var is a global variable defined outside any function and is accessible throughout the module.\n",
    "#The function my_function can access both the local variable local_var and the global variable global_var.\n",
    "#Attempting to access local_var outside the function would result in a NameError because it is not defined in the global scope.\n",
    "\n",
    "global_var = 10\n",
    "\n",
    "def my_function():\n",
    "    local_var = 20\n",
    "    print(\"Local variable:\", local_var)\n",
    "    print(\"Global variable:\", global_var)\n",
    "\n",
    "my_function()\n",
    "print(\"Global variable (outside function):\", global_var)"
   ]
  },
  {
   "cell_type": "code",
   "execution_count": null,
   "id": "666b903d-ec54-4dc5-a39d-d2b021f4b308",
   "metadata": {},
   "outputs": [],
   "source": [
    "#3 Write a Python program that demonstrates the use of global variables within functions."
   ]
  },
  {
   "cell_type": "code",
   "execution_count": 29,
   "id": "7ad0e262-2e23-464d-8c38-420ab5c064b3",
   "metadata": {},
   "outputs": [
    {
     "name": "stdout",
     "output_type": "stream",
     "text": [
      "Inside modify_global, global_var: 10\n",
      "Outside modify_global, global_var: 20\n"
     ]
    }
   ],
   "source": [
    "global_var = 10\n",
    "\n",
    "def modify_global():\n",
    "    global global_var\n",
    "    print(\"Inside modify_global, global_var:\", global_var)\n",
    "    global_var = 20\n",
    "modify_global()\n",
    "print(\"Outside modify_global, global_var:\", global_var)"
   ]
  },
  {
   "cell_type": "code",
   "execution_count": null,
   "id": "67ae6219-f30d-45b7-911e-105550158eda",
   "metadata": {},
   "outputs": [],
   "source": [
    "#4 Create a Python function that calculates the factorial of a number and returns it."
   ]
  },
  {
   "cell_type": "code",
   "execution_count": 30,
   "id": "9205a56a-f079-49db-ab26-0701f7fd30bd",
   "metadata": {},
   "outputs": [
    {
     "name": "stdout",
     "output_type": "stream",
     "text": [
      "Factorial of 5 is: 120\n"
     ]
    }
   ],
   "source": [
    "def factorial(n):\n",
    "    if n == 0:\n",
    "        return 1\n",
    "    else:\n",
    "        return n * factorial(n - 1)\n",
    "\n",
    "number = 5\n",
    "result = factorial(number)\n",
    "print(\"Factorial of\", number, \"is:\", result)"
   ]
  },
  {
   "cell_type": "code",
   "execution_count": null,
   "id": "115e4720-b3f9-4119-9440-f7a5dc874580",
   "metadata": {},
   "outputs": [],
   "source": [
    "#5 How can you access variables defined outside a function from within the function?"
   ]
  },
  {
   "cell_type": "code",
   "execution_count": 31,
   "id": "a43cce9c-ac2a-4013-89e1-6add967f74d4",
   "metadata": {},
   "outputs": [
    {
     "name": "stdout",
     "output_type": "stream",
     "text": [
      "Inside the function: 10\n"
     ]
    }
   ],
   "source": [
    "# Define a global variable\n",
    "global_var = 10\n",
    "\n",
    "def access_global():\n",
    "    # Access the global variable within the function\n",
    "    global global_var\n",
    "    print(\"Inside the function:\", global_var)\n",
    "\n",
    "# Call the function\n",
    "access_global()"
   ]
  },
  {
   "cell_type": "code",
   "execution_count": null,
   "id": "5a6ef8b8-57b3-4aa4-8ba9-e98f9d9861d6",
   "metadata": {},
   "outputs": [],
   "source": [
    "#Lambda Functions and Higher-Order Functions"
   ]
  },
  {
   "cell_type": "code",
   "execution_count": null,
   "id": "3cc0a177-327b-4369-9ef1-36369f524ef1",
   "metadata": {},
   "outputs": [],
   "source": [
    "#1 What are lambda functions in Python, and when are they typically used?"
   ]
  },
  {
   "cell_type": "code",
   "execution_count": null,
   "id": "81afe856-4040-4a0a-a86e-802346171597",
   "metadata": {},
   "outputs": [],
   "source": [
    "#Lambda functions are concise and can make the code more readable when used appropriately. \n",
    "#However, they should be used judiciously and sparingly, \n",
    "#as overly complex lambda expressions can reduce code readability and maintainability.\n",
    "\n",
    "#Lambda functions are typically used in scenarios where a short, throwaway function is needed, such as:\n",
    "#Filtering and Mapping:\n",
    "#Sorting:\n",
    "#Reducing:"
   ]
  },
  {
   "cell_type": "code",
   "execution_count": null,
   "id": "90b42912-e887-416b-9a65-275f0c177f6a",
   "metadata": {},
   "outputs": [],
   "source": [
    "#2 Write a Python program that uses lambda functions to sort a list of tuples based on the second element."
   ]
  },
  {
   "cell_type": "code",
   "execution_count": 32,
   "id": "c45f8897-0dea-4ce3-aab1-c45cc1eeed87",
   "metadata": {},
   "outputs": [
    {
     "data": {
      "text/plain": [
       "[(3, 'a'), (1, 'b'), (2, 'c')]"
      ]
     },
     "execution_count": 32,
     "metadata": {},
     "output_type": "execute_result"
    }
   ],
   "source": [
    "tuples = [(1, 'b'), (3, 'a'), (2, 'c')]\n",
    "sorted(tuples, key=lambda x: x[1])"
   ]
  },
  {
   "cell_type": "code",
   "execution_count": null,
   "id": "28dab6e4-9e8e-497c-b27c-97f85162f749",
   "metadata": {},
   "outputs": [],
   "source": [
    "#3 Explain the concept of higher-order functions in Python, and provide an example."
   ]
  },
  {
   "cell_type": "code",
   "execution_count": 33,
   "id": "3d7508dc-8cf7-4bef-9a82-f2b1845a9097",
   "metadata": {},
   "outputs": [
    {
     "name": "stdout",
     "output_type": "stream",
     "text": [
      "Result of addition: 8\n",
      "Result of subtraction: 3\n"
     ]
    }
   ],
   "source": [
    "#Higher-order functions are functions that can accept other functions as arguments and/or return functions as results. \n",
    "#This concept is derived from functional programming paradigms and allows for a powerful and flexible programming style. \n",
    "#Higher-order functions enable you to abstract and encapsulate common patterns of behavior, leading to more concise and expressive code.\n",
    "\n",
    "def apply_operation(operation, x, y):\n",
    "    return operation(x, y)\n",
    "\n",
    "def add(x, y):\n",
    "    return x + y\n",
    "\n",
    "def subtract(x, y):\n",
    "    return x - y\n",
    "\n",
    "result1 = apply_operation(add, 5, 3)\n",
    "result2 = apply_operation(subtract, 10, 7)\n",
    "\n",
    "print(\"Result of addition:\", result1)\n",
    "print(\"Result of subtraction:\", result2)"
   ]
  },
  {
   "cell_type": "code",
   "execution_count": null,
   "id": "7a09d905-f6bd-4b88-bea0-cf1aa027a121",
   "metadata": {},
   "outputs": [],
   "source": [
    "#4 Create a Python function that takes a list of numbers and a function as arguments, applying the function to each element in the list."
   ]
  },
  {
   "cell_type": "code",
   "execution_count": 1,
   "id": "dd304b6e-3dc3-4576-8777-c8b02fdfc55b",
   "metadata": {},
   "outputs": [
    {
     "name": "stdout",
     "output_type": "stream",
     "text": [
      "Result: [1, 4, 9, 16, 25]\n"
     ]
    }
   ],
   "source": [
    "def apply_function_to_list(numbers, func):\n",
    "    return [func(num) for num in numbers]\n",
    "\n",
    "numbers = [1, 2, 3, 4, 5]\n",
    "\n",
    "def square(x):\n",
    "    return x ** 2\n",
    "\n",
    "result = apply_function_to_list(numbers, square)\n",
    "print(\"Result:\", result)  "
   ]
  },
  {
   "cell_type": "code",
   "execution_count": null,
   "id": "fb5cb47e-8e22-4d15-9cb1-4c831f6ba86e",
   "metadata": {},
   "outputs": [],
   "source": [
    "#Built-in Functions"
   ]
  },
  {
   "cell_type": "code",
   "execution_count": null,
   "id": "66158650-fe09-40c8-aca9-ed2dc28bbd14",
   "metadata": {},
   "outputs": [],
   "source": [
    "#1 Describe the role of built-in functions like `len()`, `max()`, and `min()` in Python."
   ]
  },
  {
   "cell_type": "code",
   "execution_count": null,
   "id": "b863dac7-fed5-4d60-9944-d8c62903d718",
   "metadata": {},
   "outputs": [],
   "source": [
    "#The len() function returns the length (number of elements) of a given sequence or collection.\n",
    "#he max() function returns the largest element from a sequence or collection.\n",
    "#The min() function returns the smallest element from a sequence or collection."
   ]
  },
  {
   "cell_type": "code",
   "execution_count": null,
   "id": "af5688c6-b076-453d-800b-9f58deb75802",
   "metadata": {},
   "outputs": [],
   "source": [
    "#2 Write a Python program that uses the `map()` function to apply a function to each element of a list."
   ]
  },
  {
   "cell_type": "code",
   "execution_count": 4,
   "id": "8239f564-55d1-466e-bd26-baa8c3e0e52a",
   "metadata": {},
   "outputs": [
    {
     "data": {
      "text/plain": [
       "[1, 4, 9, 16, 25]"
      ]
     },
     "execution_count": 4,
     "metadata": {},
     "output_type": "execute_result"
    }
   ],
   "source": [
    "l=[1,2,3,4,5]\n",
    "list(map(lambda x:x**2,l))"
   ]
  },
  {
   "cell_type": "code",
   "execution_count": null,
   "id": "5f1b52ba-8ee4-43c1-9f26-ff0bb5032b46",
   "metadata": {},
   "outputs": [],
   "source": [
    "#3 How does the `filter()` function work in Python, and when would you use it?"
   ]
  },
  {
   "cell_type": "code",
   "execution_count": null,
   "id": "ab5901f7-353d-44d9-9c09-9439ee3c9a32",
   "metadata": {},
   "outputs": [],
   "source": [
    "#The filter() function in Python is used to create a new iterable (usually a list, tuple, or iterator) \n",
    "#that contains only the elements from the original iterable for which a specified function returns True.\n",
    "#It takes two arguments: the function that evaluates each element, and the iterable to be filtered.\n",
    "\n",
    "def is_even(n):\n",
    "    return n % 2 == 0\n",
    "numbers = [1, 2, 3, 4, 5, 6, 7, 8, 9, 10]\n",
    "even_numbers = list(filter(is_even, numbers))\n",
    "print(even_numbers)"
   ]
  },
  {
   "cell_type": "code",
   "execution_count": null,
   "id": "a50695a3-43ff-4990-a3d7-4cc4ad8533b0",
   "metadata": {},
   "outputs": [],
   "source": [
    "#4 Create a Python program that uses the `reduce()` function to find the product of all elements in a list."
   ]
  },
  {
   "cell_type": "code",
   "execution_count": 6,
   "id": "00caf9f4-33d6-4f8c-b5aa-a9156db0559b",
   "metadata": {},
   "outputs": [
    {
     "data": {
      "text/plain": [
       "120"
      ]
     },
     "execution_count": 6,
     "metadata": {},
     "output_type": "execute_result"
    }
   ],
   "source": [
    "from functools import reduce\n",
    "l=[1,2,3,4,5]\n",
    "reduce(lambda a,b:a*b,l)"
   ]
  },
  {
   "cell_type": "code",
   "execution_count": null,
   "id": "b3b16721-7fdd-4af8-a826-2d2d82a6e34c",
   "metadata": {},
   "outputs": [],
   "source": [
    "#Function Documentation and Best Practices"
   ]
  },
  {
   "cell_type": "code",
   "execution_count": null,
   "id": "791ea537-052e-479e-83c5-d38b0c23e59d",
   "metadata": {},
   "outputs": [],
   "source": [
    "#1 Explain the purpose of docstrings in Python functions and how to write them."
   ]
  },
  {
   "cell_type": "code",
   "execution_count": 7,
   "id": "b601a5f4-a96a-4d3a-8d38-dddb5f3d7b89",
   "metadata": {},
   "outputs": [],
   "source": [
    "#Docstrings (documentation strings) in Python are used to provide documentation for modules, classes, functions, and methods. \n",
    "#They serve as a way to document the purpose, usage, parameters, return values, and any other relevant information about the code. \n",
    "#Docstrings are accessible through the __doc__ attribute of the object they document and can also be accessed using the built-in help() function.\n",
    "\n",
    "def add(x, y):\n",
    "    '''Return the sum of two numbers.'''\n",
    "    return x + y"
   ]
  },
  {
   "cell_type": "code",
   "execution_count": null,
   "id": "eadd663d-df96-46cc-a91c-782990ef14c3",
   "metadata": {},
   "outputs": [],
   "source": [
    "#2 Describe some best practices for naming functions and variables in Python, including naming conventions and guidelines."
   ]
  },
  {
   "cell_type": "code",
   "execution_count": null,
   "id": "2bf69bb9-319d-4a7b-b37c-d9252459873b",
   "metadata": {},
   "outputs": [],
   "source": [
    "#Use descriptive names:\n",
    "#Choose names that accurately describe the purpose or functionality of the function or variable.\n",
    "#Avoid overly generic names like foo or temp, which do not convey meaningful information.\n",
    "\n",
    "#Follow naming conventions:\n",
    "#Snake Case: Use lowercase letters and underscores to separate words in variable and function names. For example, my_variable, calculate_average.\n",
    "#Camel Case: Use lowercase letters for the first word and capitalize the first letter of subsequent words to form a single identifier. \n",
    "#For example, calculateAverage, myVariable.\n",
    "#Pascal Case: Capitalize the first letter of each word (including the first word) to form a single identifier. \n",
    "#Typically used for class names. For example, Person, CalculateAverage.\n",
    "\n",
    "#Be consistent:\n",
    "#Maintain consistency in naming conventions throughout your codebase to make it easier to read and understand.\n",
    "#Choose one naming convention (snake case, camel case, or Pascal case) and stick to it consistently.\n",
    "\n",
    "#Use meaningful names:\n",
    "#Use descriptive names that convey the purpose or intent of the function or variable.\n",
    "#Avoid abbreviations or acronyms unless they are widely understood and commonly used in the domain.\n",
    "\n",
    "#Avoid reserved keywords:\n",
    "#Avoid using Python reserved keywords (e.g., class, def, return, if, for) as function or variable names, as they have special meanings in Python.\n",
    "\n",
    "#Use verbs for functions, nouns for variables:\n",
    "#Use verbs or verb phrases for function names to indicate actions or operations (e.g., calculate_average, print_result).\n",
    "#Use nouns or noun phrases for variable names to represent data or objects (e.g., student_name, age, list_of_numbers).\n",
    "\n",
    "#Consider function and variable scope:\n",
    "#Choose appropriate names based on the scope and lifetime of functions and variables (e.g., global vs. local variables, instance vs. class methods).\n",
    "\n",
    "#Avoid single-letter names:\n",
    "#Avoid using single-letter variable names (e.g., x, y, i) except in cases where they are used as loop counters or in \n",
    "#mathematical contexts where their meaning is clear.\n",
    "\n",
    "#Document complex or non-obvious names:\n",
    "#If a function or variable name is not immediately clear from its context, consider adding a comment or docstring to explain its purpose or usage."
   ]
  }
 ],
 "metadata": {
  "kernelspec": {
   "display_name": "Python 3 (ipykernel)",
   "language": "python",
   "name": "python3"
  },
  "language_info": {
   "codemirror_mode": {
    "name": "ipython",
    "version": 3
   },
   "file_extension": ".py",
   "mimetype": "text/x-python",
   "name": "python",
   "nbconvert_exporter": "python",
   "pygments_lexer": "ipython3",
   "version": "3.10.8"
  }
 },
 "nbformat": 4,
 "nbformat_minor": 5
}
